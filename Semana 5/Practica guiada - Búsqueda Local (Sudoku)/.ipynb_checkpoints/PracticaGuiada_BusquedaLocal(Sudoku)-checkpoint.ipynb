{
 "cells": [
  {
   "cell_type": "markdown",
   "metadata": {
    "collapsed": true
   },
   "source": [
    "# INTELIGENCIA ARTIFICIAL (INF 371)¶\n",
    "Dr. Edwin Villanueva (ervillanueva@pucp.edu.pe)"
   ]
  },
  {
   "cell_type": "markdown",
   "metadata": {},
   "source": [
    "## Practica Guiada:  Busqueda local para solucionar Tableros de Sudoku\n",
    "\n",
    "Este notebook implementa busqueda local para encontrar soluciones a tableros de sudoku. Se les esta disponibilizando la implementacion del algoritmo Simulating Annealing y Hill climbing. Al final de este notebook estan las preguntas \n"
   ]
  },
  {
   "cell_type": "markdown",
   "metadata": {},
   "source": [
    "### Funciones utilitarias para manejar el tablero del sudoku </b>\n",
    "Estas son funciones utilitarias para trabajar con tableros de sudoku  "
   ]
  },
  {
   "cell_type": "code",
   "execution_count": null,
   "metadata": {},
   "outputs": [],
   "source": [
    "import sys\n",
    "import time\n",
    "import numpy as np\n",
    "from random import shuffle, random, sample, randint\n",
    "from copy import deepcopy\n",
    "from math import exp\n",
    "\n",
    "# Funcion para cargar el tablero del sudoku de un archivo\n",
    "def readBoardFromFile(filename):\n",
    "    fd = open(filename,\"r+\")    \n",
    "    puzzle = eval(fd.readline())\n",
    "    board = []\n",
    "    for row in puzzle:\n",
    "        for col in row:\n",
    "            board.append(col)\n",
    "    return np.array(board)  #  el tablero es un vector con las filas concatenadas\n",
    "\n",
    "# devuelve los indices de los elementos de la columna i del tablero  \n",
    "def get_column_indices(i):  \n",
    "    indices = [i + 9 * j for j in range(9)]\n",
    "    return indices\n",
    "\n",
    "# devuelve los indices de los elementos de la fila i del tablero \n",
    "def get_row_indices(i):  \n",
    "    indices = [j + 9*i for j in range(9)]\n",
    "    return indices\n",
    "\n",
    "# devuelve los indices de los elementos del bloque k del tablero. initialEntries son los indices de las posiciones inmutables (numeros iniciales) \n",
    "# si ignore_originals=true  entonces solo devuelve los indices de las posiciones que no son las posiciones inmutables\n",
    "def get_block_indices(k, initialEntries, ignore_originals=False): \n",
    "    row_offset = (k//3)*3\n",
    "    col_offset= (k%3)*3\n",
    "    indices=[col_offset+(j%3)+9*(row_offset+(j//3)) for j in range(9)]\n",
    "    if ignore_originals:\n",
    "        indices = [x for x in indices if x not in initialEntries]\n",
    "    return indices\n",
    "\n",
    "# Completa aleatoriamente las pociciones vacias (que no son initialEntries). \n",
    "# Garantiza que en cada bloque se generen 9 numeros diferentes \n",
    "def randomAssign(board, initialEntries):\n",
    "    for num in range(9):\n",
    "        block_indices = get_block_indices(num, initialEntries)\n",
    "        block = board[block_indices]\n",
    "        zero_indices=[ind for i,ind in enumerate(block_indices) if block[i] == 0]\n",
    "        to_fill = [i for i in range(1,10) if i not in block]\n",
    "        shuffle(to_fill)\n",
    "        for ind, value in zip(zero_indices, to_fill):\n",
    "            board[ind] = value\n",
    "\n",
    "# Evalua un tablero. Devuelve la cantidad de numeros diferentes en todas las filas y columnas \n",
    "# un tablero solucion tiene un score de 162 (81+81)\n",
    "def score_board(board):\n",
    "    score = 0\n",
    "    for row in range(9): # por cada fila obtiene la cantidad de numeros diferentes\n",
    "        score+= len(set(board[get_row_indices(row)]))\n",
    "    for col in range(9): # por cada columna obtiene la cantidad de numeros diferentes\n",
    "        score += len(set(board[get_column_indices(col)]))\n",
    "    return score\n",
    "\n",
    "# Genera un tablero nuevo. Se escoje aleatoriamente un bloque y se intercambia dos valores (no dados en el tablero original)  \n",
    "def make_neighborBoard(board, initialEntries):\n",
    "    new_board = deepcopy(board)\n",
    "    block = randint(0,8)  # escoje un bloque aleatoriamente\n",
    "    num_in_block = len(get_block_indices(block,initialEntries,ignore_originals=True)) #cantidad de posiciones que se puede alterar en el bloque \n",
    "    random_squares = sample(range(num_in_block),2) # escoje dos posiciones aleatorias del bloque para intercambiar valores\n",
    "    square1, square2 = [get_block_indices(block,initialEntries,ignore_originals=True)[ind] for ind in random_squares]\n",
    "    new_board[square1], new_board[square2] = new_board[square2], new_board[square1] # intercambia los valores de las posiciones\n",
    "    return new_board\n",
    "\n",
    "# Imprime un tablero en pantalla\n",
    "def showBoard(board):\n",
    "    def checkZero(s):\n",
    "        if s != 0: return str(s)\n",
    "        if s == 0: return \"0\"\n",
    "    results = np.array([board[get_row_indices(j)] for j in range(9)])\n",
    "    s=\"\"\n",
    "    for i, row in enumerate(results):\n",
    "        if i%3==0:\n",
    "            s +=\"-\"*25+'\\n'\n",
    "        s += \"| \" + \" | \".join([\" \".join(checkZero(s) for s in list(row)[3*(k-1):3*k]) for k in range(1,4)]) + \" |\\n\"\n",
    "    s +=\"-\"*25+''\n",
    "    print (s)"
   ]
  },
  {
   "cell_type": "markdown",
   "metadata": {},
   "source": [
    "### Implementacion del algoritmo Hill Climbing  para resolver tableros de sudoku </b>\n"
   ]
  },
  {
   "cell_type": "code",
   "execution_count": null,
   "metadata": {},
   "outputs": [],
   "source": [
    "def get_neighborhood(board, initialEntries, number_of_neighbors=100):\n",
    "    \"\"\" finds neighboring boards using make_neighborBoard() method \"\"\"\n",
    "    neighborhood = []\n",
    "    for i in range(number_of_neighbors):\n",
    "        neighborhood.append(make_neighborBoard(board, initialEntries))\n",
    "    return neighborhood\n",
    "\n",
    "\n",
    "def hc_solver(board, number_of_neighbors=100, maxIter=1000 ):\n",
    "    \"\"\" Hill Climbing solver. From the initial board, keep choosing the neighbor board with highest score,\n",
    "        stopping when no neighbor is better. \n",
    "        board: is a np array of 81 elements. The first 9 are the first row of the board, the next 9 are the second row ...            \n",
    "        number_of_neighbors: Number of neighbors in the neighborhood\n",
    "        maxIter: The maximum number of iterations\n",
    "    \"\"\"\n",
    "    start_time = time.time()\n",
    "    print ('Hill Climbing intentará resolver el siguiente tablero sudoku: ')\n",
    "    showBoard(board)\n",
    "    initialEntries = np.arange(81)[board > 0]  # las posiciones no vacias del board\n",
    "    randomAssign(board, initialEntries)  # En cada box del board asigna numeros aleatorios en pociciones vacias, garantizando que sean los 9 numeros diferentes \n",
    "    \n",
    "    current_board = board\n",
    "    current_score = score_board(board)\n",
    "    t = 0\n",
    "    while (t < maxIter):\n",
    "        if (t % 100 == 0): \n",
    "            print('Iteration {},\\tCurrent score = {}'.format(t, current_score))\n",
    "        \n",
    "        neighborhood = get_neighborhood(current_board, initialEntries, number_of_neighbors)\n",
    "        if not neighborhood:\n",
    "            break\n",
    "        \n",
    "        neighborhood_scores = []\n",
    "        for i in range(len(neighborhood)): # evaluate each neighbor board\n",
    "            neighborhood_scores.append( score_board(neighborhood[i]) )\n",
    "        index_best_neighbor = np.argmax(neighborhood_scores)  # the index of the best neighbor\n",
    "            \n",
    "        if neighborhood_scores[index_best_neighbor] >= current_score:\n",
    "            current_score = neighborhood_scores[index_best_neighbor]\n",
    "            current_board = deepcopy(neighborhood[index_best_neighbor])\n",
    "        t += 1\n",
    "    \n",
    "    end_time = time.time()\n",
    "    print(\"Best board found in {} seconds ({} ierations) with {}/{} points:\".format(end_time-start_time,t,current_score,162))\n",
    "    showBoard(current_board)"
   ]
  },
  {
   "cell_type": "markdown",
   "metadata": {},
   "source": [
    "### Implementacion del algoritmo Simulating Annealing  para resolver tableros de sudoku </b>\n"
   ]
  },
  {
   "cell_type": "code",
   "execution_count": null,
   "metadata": {},
   "outputs": [],
   "source": [
    "def sa_solver(board, T0=0.5, DR=.99999, maxIter=100000):\n",
    "    \"\"\" Simulating annealing solver. \n",
    "        board: is a np array of 81 elements. The first 9 are the first row of the board, the next 9 are the second row ...    \n",
    "           T0: Initial temperature\n",
    "           DR: The decay rate of the schedule function: Ti = T0*(DR)^i (Ti is the temperature at iteration i). \n",
    "               For efficiecy the schedule function is implemented as: Ti = T(i-1)*DR\n",
    "      maxIter: The maximum number of iterations\n",
    "    \"\"\"\n",
    "    start_time = time.time()\n",
    "    print ('Simulated Annealing intentará resolver el siguiente tablero sudoku: ')\n",
    "    showBoard(board)\n",
    "    \n",
    "    initialEntries = np.arange(81)[board > 0]  # las posiciones no vacias del board\n",
    "    randomAssign(board, initialEntries)  # En cada box del board asigna numeros aleatorios en pociciones vacias, garantizando que sean los 9 numeros diferentes \n",
    "    #showBoard(board)\n",
    "    best_board = deepcopy(board)\n",
    "    current_score = score_board(board)\n",
    "    best_score = current_score\n",
    "    T = T0  # El valor inicial de la temperatura\n",
    "    t = 0\n",
    "    while (t < maxIter):\n",
    "        try:\n",
    "            if (t % 10000 == 0): \n",
    "                print('Iteration {},\\tTemperaure = {},\\tBest score = {},\\tCurrent score = {}'.format(t, T, best_score, current_score))\n",
    "            neighborBoard = make_neighborBoard(board, initialEntries)\n",
    "            neighborBoardScore = score_board(neighborBoard)\n",
    "            delta = float(neighborBoardScore - current_score)\n",
    "            \n",
    "            if (exp((delta/T)) - random() > 0):\n",
    "                board = neighborBoard\n",
    "                current_score = neighborBoardScore \n",
    "            if (current_score > best_score):\n",
    "                best_board = deepcopy(board)\n",
    "                best_score = score_board(best_board)\n",
    "            if neighborBoardScore == 162:   # 162 es un tablero solucion\n",
    "                best_board = neighborBoard\n",
    "                break\n",
    "            T = DR*T\n",
    "            t += 1\n",
    "        except:\n",
    "            print(\"Numerical error occurred. It's a random algorithm so try again.\")         \n",
    "    end_time = time.time() \n",
    "    if best_score == 162:\n",
    "        print (\"Solution found in {} seconds (iterations={}):\".format(end_time - start_time, t))\n",
    "    else:\n",
    "        print(\"Couldn't solve! ({}/{} points). This is the best solution found (iterations={}):\".format(best_score,162,t))\n",
    "    \n",
    "    showBoard(best_board)"
   ]
  },
  {
   "cell_type": "markdown",
   "metadata": {},
   "source": [
    "## <b> Experimentación con los algoritmos de Busqueda</b> \n"
   ]
  },
  {
   "cell_type": "markdown",
   "metadata": {},
   "source": [
    "Llama a Hill Climbing para resolver el tablero 'puzzleA.txt' con number_of_neighbors=100 y numero de iteraciones maxIter=1000"
   ]
  },
  {
   "cell_type": "code",
   "execution_count": null,
   "metadata": {},
   "outputs": [],
   "source": [
    "board = readBoardFromFile('puzzleA.txt')\n",
    "hc_solver(board, number_of_neighbors=100, maxIter=1000)"
   ]
  },
  {
   "cell_type": "markdown",
   "metadata": {},
   "source": [
    "Llama a Simulating Annealing para resolver el tablero 'puzzleA.txt' con Temperatura inicial T0=0.5, Factor de decaimiento de temperatura DR=0.99999 y Máximo numero de iteraciones maxIter=100000"
   ]
  },
  {
   "cell_type": "code",
   "execution_count": null,
   "metadata": {},
   "outputs": [],
   "source": [
    "board = readBoardFromFile('puzzleA.txt')\n",
    "sa_solver(board, T0=0.5, DR=.99999, maxIter=100000)"
   ]
  },
  {
   "cell_type": "markdown",
   "metadata": {},
   "source": [
    "## Preguntas\n",
    "\n",
    "1) Ejecute 4 repeticiones de Simulating Annealing (SA) y Hill Climbing (HC) en cada uno de los tableros: 'puzzleA.txt' y 'puzzleB.txt' con los parametros siguientes (ellos garantizan una misma cantidad de tableros evaluados como maximo):\n",
    "    SA: T0=0.5, DR=.99999, maxIter=100000\n",
    "    HC: number_of_neighbors=100, maxIter=1000 \n",
    " Registre la media y desviación standard del score del mejor tablero encontrado por cada metodo en cada puzzle:\n",
    "     \n",
    "     puzzleA.txt:\n",
    "            SA:  \n",
    "            HC:\n",
    "     puzzleA.txt\n",
    "            SA:  \n",
    "            HC:\n",
    " \n",
    " \n",
    "2) Interprete los resultados anteriores. Indique qué método es mas adecuado y explique a qué se debe las diferencias de desempeño observadas\n",
    "\n"
   ]
  },
  {
   "cell_type": "code",
   "execution_count": null,
   "metadata": {},
   "outputs": [],
   "source": []
  }
 ],
 "metadata": {
  "kernelspec": {
   "display_name": "Python 3",
   "language": "python",
   "name": "python3"
  },
  "language_info": {
   "codemirror_mode": {
    "name": "ipython",
    "version": 3
   },
   "file_extension": ".py",
   "mimetype": "text/x-python",
   "name": "python",
   "nbconvert_exporter": "python",
   "pygments_lexer": "ipython3",
   "version": "3.7.4"
  }
 },
 "nbformat": 4,
 "nbformat_minor": 2
}
