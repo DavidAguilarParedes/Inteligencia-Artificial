{
 "cells": [
  {
   "cell_type": "markdown",
   "metadata": {
    "colab_type": "text",
    "id": "Dj-5XrnsC4qv"
   },
   "source": [
    "# Inteligencia Artificial\n",
    "Dr. Edwin Villanueva Talavera (ervillanueva@pucp.edu.pe)\n",
    "Dra. Soledad Espezua Llerena (sespezua@pucp.edu.pe )"
   ]
  },
  {
   "cell_type": "markdown",
   "metadata": {
    "colab_type": "text",
    "id": "LNjrgeseC4q2"
   },
   "source": [
    "## Algoritmo Ant Colony Optimization (ACO) para resolver el problema del cajero viajante\n",
    "\n",
    "En este notebook se presenta la implementación del algoritmo de colonia de hormigas para encontrar rutas optimas para el problema del cajero viajante. La clase que implementa el algoritmo es ACO_TSP. Se debe proporcionar al constructor una matriz de costos entre nodos, asi como parametros del algoritmo ACO \n"
   ]
  },
  {
   "cell_type": "code",
   "execution_count": 3,
   "metadata": {
    "colab": {},
    "colab_type": "code",
    "id": "JTNqOPHRC4rA"
   },
   "outputs": [],
   "source": [
    "import random as rn\n",
    "import numpy as np\n",
    "from numpy.random import choice as np_choice\n",
    "\n",
    "class ACO_TSP(object):\n",
    "    \n",
    "    def __init__(self, cost_matrix, num_ants, num_elite_ants, max_iter, rho=0.95, alpha=1, beta=1):\n",
    "        \"\"\"\n",
    "        Argumentos:\n",
    "            cost_matrix: Matriz de costos ((2D numpy.array)). La diagonal se asume np.inf.\n",
    "            num_ants: Numero de hormigas\n",
    "            num_elite_ants: Numero de mejores hormigas habilitadas a depositar feromonas\n",
    "            max_iter: Maximo numero de iteraciones\n",
    "            rho: Factor de evaporacion. Valor 1 significa evaporacion total en una iteracion\n",
    "            alpha: exponente del rastro de feromona\n",
    "            beta:  exponente de la facilidad de transicion\n",
    "        Example:\n",
    "            ant_colony = ACO_TSP(german_distances, 100, 20, 2000, 0.95, alpha=1, beta=2)          \n",
    "        \"\"\"\n",
    "        self.cost_matrix  = cost_matrix\n",
    "        self.pheromone_matrix = np.ones(self.cost_matrix.shape) / len(cost_matrix)\n",
    "        self.num_ants = num_ants\n",
    "        self.num_elite_ants = num_elite_ants\n",
    "        self.max_iter = max_iter\n",
    "        self.rho = rho\n",
    "        self.alpha = alpha\n",
    "        self.beta = beta\n",
    "\n",
    "    ## Metodo principal que realiza la optimizacion ACO en un problema TSP\n",
    "    def optimize(self):\n",
    "        best_path = None   # el mejor camino de la iteracion\n",
    "        best_path_alltime = (\"placeholder\", np.inf)  # para almacenar el mejor camino encontrado hasta ahora\n",
    "        \n",
    "        for i in range(self.max_iter):   # por cada iteracion\n",
    "            ant_paths = self.find_ant_paths()   # encuentra los caminos de todas hormigas\n",
    "            self.deposit_pheronome(ant_paths, self.num_elite_ants)  # deposita feromonas en los paths de las hormigas elite\n",
    "            best_path = min(ant_paths, key=lambda x: x[1])   # devuelve el camino menos costoso\n",
    "            print (best_path)\n",
    "            if best_path[1] < best_path_alltime[1]:\n",
    "                best_path_alltime = best_path            \n",
    "            self.pheromone_matrix = self.pheromone_matrix * (1-self.rho) # evapora las feromonas\n",
    "        return best_path_alltime   # retorna el mejor camino encontrado en toda la optimizacion\n",
    "\n",
    "    ## Deposita feromonio en buenos caminos\n",
    "    def deposit_pheronome(self, ant_paths, num_elite_ants): \n",
    "        sorted_paths = sorted(ant_paths, key=lambda x: x[1])  # ordena los paths por su costo\n",
    "        for path, path_cost in sorted_paths[:num_elite_ants]: # por cada path de una hormiga de elite\n",
    "            for edge in path:   # por cada arco del path de una hormiga de elite\n",
    "                self.pheromone_matrix[edge] += 1.0 / self.cost_matrix[edge] # deposita feromonio en el arco\n",
    "\n",
    "    ## Obtiene el costo de un camino\n",
    "    def get_path_cost(self, path):\n",
    "        path_cost = 0.0\n",
    "        for edge in path:\n",
    "            path_cost += self.cost_matrix[edge]\n",
    "        return path_cost\n",
    "\n",
    "    ## Encuentra los caminos de las hormiga\n",
    "    def find_ant_paths(self):\n",
    "        ant_paths = []\n",
    "        for i in range(self.num_ants):  # por cada hormiga\n",
    "            path = self.gen_ant_path(0) # obtiene el camino de hormiga i empexando en nodo 0\n",
    "            ant_paths.append( (path, self.get_path_cost(path)) )\n",
    "        return ant_paths\n",
    "    \n",
    "    ## Explora un camino para una hormiga\n",
    "    def gen_ant_path(self, start_node):\n",
    "        path = []\n",
    "        visited_nodes = set()   # para almacenar los nodos visitados\n",
    "        visited_nodes.add(start_node)\n",
    "        current_node = start_node\n",
    "        for i in range(len(self.cost_matrix) - 1):  # para cada arista del camino a construir\n",
    "            next_node = self.pick_next_node( current_node, visited_nodes ) # escoge un nodo a saltar\n",
    "            path.append( (current_node, next_node) )\n",
    "            current_node = next_node\n",
    "            visited_nodes.add(next_node)\n",
    "        path.append((current_node, start_node)) # coloca la ultima arista hasta el nodo inicial para cerrar el camino    \n",
    "        return path\n",
    "\n",
    "    ## Escoje el nodo siguiente desde el nodo actual (node) basado en probabilidades ACO\n",
    "    def pick_next_node(self, node, visited):\n",
    "        \n",
    "        cost_row      = self.cost_matrix[node]   # obtiene los costos de saltar a cada nodo desde node\n",
    "        pheromone_row = np.copy(self.pheromone_matrix[node]) # obtiene las feromonas de cada arista desde node\n",
    "        pheromone_row[list(visited)] = 0    # las aristas a los nodos ya visitados son inhabilitadas colocando feromona 0 \n",
    "\n",
    "        # calcula probabilidades de aristas\n",
    "        prob_row = pheromone_row ** self.alpha * (( 1.0 / cost_row) ** self.beta)\n",
    "        prob_row = prob_row / prob_row.sum()     \n",
    "\n",
    "        nodes = range(len(self.cost_matrix))\n",
    "        next_node = np_choice(nodes, 1, p=prob_row)[0]   # escoje el siguiente nodo segun las probabilidades (ruleta)\n",
    "        \n",
    "        return next_node\n",
    "    \n"
   ]
  },
  {
   "cell_type": "markdown",
   "metadata": {
    "colab_type": "text",
    "id": "EK4X4a48C4rK"
   },
   "source": [
    "## Probando el algoritmo"
   ]
  },
  {
   "cell_type": "markdown",
   "metadata": {},
   "source": [
    "Ejemplo 1"
   ]
  },
  {
   "cell_type": "code",
   "execution_count": 5,
   "metadata": {
    "colab": {
     "base_uri": "https://localhost:8080/",
     "height": 204
    },
    "colab_type": "code",
    "id": "xVhHXdXuC4rN",
    "outputId": "c7f007d2-0754-44c0-c6fd-1d9e2cde0fda"
   },
   "outputs": [
    {
     "name": "stdout",
     "output_type": "stream",
     "text": [
      "([(0, 1), (1, 4), (4, 3), (3, 2), (2, 0)], 9.0)\n",
      "([(0, 1), (1, 4), (4, 3), (3, 2), (2, 0)], 9.0)\n",
      "([(0, 1), (1, 4), (4, 3), (3, 2), (2, 0)], 9.0)\n",
      "([(0, 1), (1, 4), (4, 3), (3, 2), (2, 0)], 9.0)\n",
      "([(0, 1), (1, 4), (4, 3), (3, 2), (2, 0)], 9.0)\n",
      "([(0, 1), (1, 4), (4, 3), (3, 2), (2, 0)], 9.0)\n",
      "([(0, 1), (1, 4), (4, 3), (3, 2), (2, 0)], 9.0)\n",
      "([(0, 1), (1, 4), (4, 3), (3, 2), (2, 0)], 9.0)\n",
      "([(0, 1), (1, 4), (4, 3), (3, 2), (2, 0)], 9.0)\n",
      "([(0, 1), (1, 4), (4, 3), (3, 2), (2, 0)], 9.0)\n",
      "Tour encontrado por ACO: ([(0, 1), (1, 4), (4, 3), (3, 2), (2, 0)], 9.0)\n"
     ]
    }
   ],
   "source": [
    "costos = np.array([[np.inf, 2, 2, 5, 7],\n",
    "                   [2, np.inf, 4, 8, 2],\n",
    "                   [2, 4, np.inf, 1, 3],\n",
    "                   [5, 8, 1, np.inf, 2],\n",
    "                   [7, 2, 3, 2, np.inf]])\n",
    "num_ants=3\n",
    "num_elite_ants=1\n",
    "max_iter=10\n",
    "aco = ACO_TSP(costos, num_ants, num_elite_ants, max_iter, rho=0.95, alpha=1, beta=1)\n",
    "camino_aco = aco.optimize()\n",
    "print (\"Tour encontrado por ACO: {}\".format(camino_aco))"
   ]
  },
  {
   "cell_type": "markdown",
   "metadata": {},
   "source": [
    "Ejemplo 2"
   ]
  },
  {
   "cell_type": "markdown",
   "metadata": {},
   "source": [
    "Creando una matriz de costos de 20 ciudades con distancias generadas aleatoriamente"
   ]
  },
  {
   "cell_type": "code",
   "execution_count": 10,
   "metadata": {
    "colab": {
     "base_uri": "https://localhost:8080/",
     "height": 605
    },
    "colab_type": "code",
    "id": "afbSGbjrC4rZ",
    "outputId": "ec8d723e-a2bc-449d-ddc0-fc83e4dc35b8"
   },
   "outputs": [
    {
     "data": {
      "text/plain": [
       "[<matplotlib.lines.Line2D at 0x208eb976b48>]"
      ]
     },
     "execution_count": 10,
     "metadata": {},
     "output_type": "execute_result"
    },
    {
     "data": {
      "image/png": "[encoded data removed]",
      "text/plain": [
       "<Figure size 432x288 with 1 Axes>"
      ]
     },
     "metadata": {
      "needs_background": "light"
     },
     "output_type": "display_data"
    }
   ],
   "source": [
    "%matplotlib inline\n",
    "import matplotlib.pyplot as plt\n",
    "from scipy.spatial import distance\n",
    "N= 20\n",
    "puntos = 100*np.random.random((N,2))\n",
    "dist_matrix = distance.cdist(puntos, puntos)\n",
    "for i in range(N):  dist_matrix[i,i] = np.inf\n",
    "#print (dist_matrix) \n",
    "plt.plot(puntos[:,0], puntos[:,1], 'o', color='blue')"
   ]
  },
  {
   "cell_type": "code",
   "execution_count": 18,
   "metadata": {
    "colab": {
     "base_uri": "https://localhost:8080/",
     "height": 1000
    },
    "colab_type": "code",
    "id": "KmDJ3Vl1C4ri",
    "outputId": "fbdf56a9-58da-41a9-d7c2-8664039fc5df"
   },
   "outputs": [
    {
     "name": "stdout",
     "output_type": "stream",
     "text": [
      "([(0, 4), (4, 2), (2, 3), (3, 7), (7, 6), (6, 8), (8, 12), (12, 10), (10, 13), (13, 16), (16, 11), (11, 17), (17, 1), (1, 15), (15, 5), (5, 14), (14, 9), (9, 19), (19, 18), (18, 0)], 652.3337012396274)\n",
      "([(0, 10), (10, 13), (13, 2), (2, 1), (1, 15), (15, 5), (5, 17), (17, 8), (8, 12), (12, 9), (9, 19), (19, 18), (18, 16), (16, 3), (3, 7), (7, 6), (6, 14), (14, 11), (11, 4), (4, 0)], 606.6734078397432)\n",
      "([(0, 4), (4, 10), (10, 16), (16, 13), (13, 2), (2, 7), (7, 8), (8, 12), (12, 9), (9, 19), (19, 6), (6, 14), (14, 18), (18, 11), (11, 3), (3, 5), (5, 17), (17, 1), (1, 15), (15, 0)], 648.048067359611)\n",
      "([(0, 10), (10, 13), (13, 16), (16, 3), (3, 7), (7, 6), (6, 14), (14, 19), (19, 18), (18, 9), (9, 17), (17, 1), (1, 15), (15, 5), (5, 12), (12, 8), (8, 11), (11, 4), (4, 2), (2, 0)], 578.0916685474825)\n",
      "([(0, 10), (10, 16), (16, 13), (13, 2), (2, 11), (11, 3), (3, 7), (7, 6), (6, 18), (18, 9), (9, 19), (19, 14), (14, 12), (12, 8), (8, 5), (5, 17), (17, 1), (1, 15), (15, 4), (4, 0)], 479.9867078560373)\n",
      "([(0, 10), (10, 16), (16, 13), (13, 2), (2, 11), (11, 4), (4, 15), (15, 5), (5, 17), (17, 1), (1, 14), (14, 9), (9, 19), (19, 18), (18, 8), (8, 12), (12, 6), (6, 7), (7, 3), (3, 0)], 558.9577196625817)\n",
      "([(0, 10), (10, 16), (16, 13), (13, 2), (2, 11), (11, 3), (3, 7), (7, 6), (6, 18), (18, 8), (8, 12), (12, 9), (9, 19), (19, 14), (14, 5), (5, 17), (17, 15), (15, 1), (1, 4), (4, 0)], 506.56916201193314)\n",
      "([(0, 10), (10, 16), (16, 13), (13, 2), (2, 11), (11, 3), (3, 7), (7, 6), (6, 18), (18, 8), (8, 12), (12, 9), (9, 19), (19, 14), (14, 5), (5, 17), (17, 1), (1, 15), (15, 4), (4, 0)], 500.75818977731916)\n",
      "([(0, 10), (10, 16), (16, 13), (13, 2), (2, 11), (11, 3), (3, 7), (7, 6), (6, 18), (18, 9), (9, 19), (19, 14), (14, 5), (5, 17), (17, 1), (1, 15), (15, 12), (12, 8), (8, 4), (4, 0)], 484.77473458151957)\n",
      "([(0, 10), (10, 16), (16, 13), (13, 2), (2, 11), (11, 3), (3, 7), (7, 6), (6, 18), (18, 9), (9, 19), (19, 14), (14, 5), (5, 17), (17, 1), (1, 15), (15, 8), (8, 12), (12, 4), (4, 0)], 481.8061941384101)\n",
      "Tour encontrado por ACO: ([(0, 10), (10, 16), (16, 13), (13, 2), (2, 11), (11, 3), (3, 7), (7, 6), (6, 18), (18, 9), (9, 19), (19, 14), (14, 12), (12, 8), (8, 5), (5, 17), (17, 1), (1, 15), (15, 4), (4, 0)], 479.9867078560373)\n"
     ]
    }
   ],
   "source": [
    "num_ants=15\n",
    "num_elite_ants=1\n",
    "max_iter=10\n",
    "aco = ACO_TSP(dist_matrix, num_ants, num_elite_ants, max_iter, rho=0.5, alpha=1, beta=1)\n",
    "camino_aco = aco.optimize()\n",
    "print (\"Tour encontrado por ACO: {}\".format(camino_aco))"
   ]
  },
  {
   "cell_type": "markdown",
   "metadata": {},
   "source": [
    "**Funcion para graficar el recorrido**"
   ]
  },
  {
   "cell_type": "code",
   "execution_count": 19,
   "metadata": {
    "colab": {
     "base_uri": "https://localhost:8080/",
     "height": 863
    },
    "colab_type": "code",
    "id": "kE4Fsh2sC4rn",
    "outputId": "0c109501-29b0-4d60-da1c-c70ca24e4ec4"
   },
   "outputs": [],
   "source": [
    "def join_points(camino_aco,puntos):\n",
    "    fullPath = camino_aco[0]\n",
    "    plt.figure(figsize=(10, 10))\n",
    "    for i in range(len(fullPath)):\n",
    "        plt.annotate(\"\", xy=puntos[fullPath[i][1]], xytext=puntos[fullPath[i][0]],arrowprops=dict(arrowstyle=\"->\"))\n",
    "    plt.plot(puntos[:,0], puntos[:,1], 'o', color='red',markersize=23)\n",
    "    plt.plot(puntos[0][0], puntos[0][1], 'o', color='green',markersize=23)\n",
    "\n",
    "    stater_point = 0\n",
    "    corr = 1\n",
    "    for i,j in zip(puntos[:,0], puntos[:,1]):\n",
    "        plt.annotate(str(stater_point),  xy=(i + corr, j + corr), bbox=dict(boxstyle='round,pad=0.2', fc='yellow', alpha=0.3),)\n",
    "        stater_point+=1"
   ]
  },
  {
   "cell_type": "code",
   "execution_count": 20,
   "metadata": {},
   "outputs": [
    {
     "data": {
      "image/png": "[encoded data removed]",
      "text/plain": [
       "<Figure size 720x720 with 1 Axes>"
      ]
     },
     "metadata": {
      "needs_background": "light"
     },
     "output_type": "display_data"
    }
   ],
   "source": [
    "join_points(camino_aco,puntos)"
   ]
  },
  {
   "cell_type": "code",
   "execution_count": null,
   "metadata": {
    "colab": {},
    "colab_type": "code",
    "id": "yGDDJGvnNFTI"
   },
   "outputs": [],
   "source": []
  }
 ],
 "metadata": {
  "colab": {
   "collapsed_sections": [],
   "name": "ACO-TSP.ipynb",
   "provenance": []
  },
  "kernelspec": {
   "display_name": "Python 3",
   "language": "python",
   "name": "python3"
  },
  "language_info": {
   "codemirror_mode": {
    "name": "ipython",
    "version": 3
   },
   "file_extension": ".py",
   "mimetype": "text/x-python",
   "name": "python",
   "nbconvert_exporter": "python",
   "pygments_lexer": "ipython3",
   "version": "3.7.6"
  }
 },
 "nbformat": 4,
 "nbformat_minor": 4
}
