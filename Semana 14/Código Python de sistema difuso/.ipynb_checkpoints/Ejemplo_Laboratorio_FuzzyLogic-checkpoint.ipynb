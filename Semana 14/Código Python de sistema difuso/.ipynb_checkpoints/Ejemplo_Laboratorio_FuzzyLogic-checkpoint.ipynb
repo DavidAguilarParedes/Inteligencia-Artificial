{
 "cells": [
  {
   "cell_type": "markdown",
   "metadata": {},
   "source": [
    "# Inteligencia Artificial (INF371, 2020-1)\n",
    "## Inferencia con Logica Difusa\n",
    "El presente laboratorio aborda la construcción de un sistema de inferencia Difuso Mamdani. Se usara la libreria scikit-fuzzy para facilitar dicha tarea.\n",
    "\n",
    "Al final de este notebook responder a las preguntas planteadas."
   ]
  },
  {
   "cell_type": "markdown",
   "metadata": {},
   "source": [
    "<b>Instalacion de scikit-fuzzy:</b>\n",
    "pip install -U scikit-fuzzy"
   ]
  },
  {
   "cell_type": "markdown",
   "metadata": {},
   "source": [
    "## Descripcion del problema.\n",
    "Usted es contratado para trabajar en una planta industrial procesadora de jugos de naranja. Para cada lote de bebida el equipo de laboratório tiene que medir 2 variables reales: Contenido de agua ($Agua$) e Indice de Acidez ($Acidez$), y en función de ello, tiene que aplicar uno de tres tipos de conservantes: clase A, B o C. \n",
    "\n",
    "Usted ha sido encargado de automatizar dicho proceso. Para ello, usted decide implementar un sistema de inferencia difuso para, en base a los valores medidos de las variables, inferir que tipo de conservante usar en determinado lote de bebida. Después de  entrevistas con el equipo de laboratorio usted arriba a los terminos linguisticos y funciones de pertenencia mostrados en las  Figuras abajo:\n",
    "<p><img src=\"Entrada1.png\">\n",
    "<p><img src=\"Entrada2.png\">\n",
    "<p><img src=\"Salida.png\">"
   ]
  },
  {
   "cell_type": "markdown",
   "metadata": {},
   "source": [
    "El proceso de inferencia que ha decidido usar es del tipo Modus-Ponens. De las entrevistas con el equipo de laboratorio usted ha podido extraer las siguientes reglas difusas:\n",
    "\n",
    "  - Regla 1: Si (Contenido de Agua es Bajo) y (Índice de Acidez es Pequeño) Entonces (Clase es \"A\") \n",
    "  \n",
    "  - Regla 2: Si (Contenido de Agua es Medio) y (Índice de Acidez es Pequeño) Entonces (Clase es \"A\")\n",
    "  \n",
    "  - Regla 3: Si (Contenido de Agua es Alto) y (Índice de Acidez es Pequeño) Entonces (Clase es \"B\")\n",
    "\n",
    "  - Regla 4: Si (Contenido de Agua es Bajo) y (Índice de Acidez es Medio) Entonces (Clase es \"A\")\n",
    "\n",
    "  - Regla 5: Si (Contenido de Agua es Medio) y (Índice de Acidez es Medio) Entonces (Clase es \"B\")\n",
    "\n",
    "  - Regla 6: Si (Contenido de Agua es Alto) y (Índice de Acidez es Medio) Entonces (Clase es \"C\")\n",
    "\n",
    "  - Regla 7: Si (Contenido de Agua es Bajo) y (Índice de Acidez es Grande) Entonces (Clase es \"B\")\n",
    "\n",
    "  - Regla 8: Si (Contenido de Agua es Medio) y (Índice de Acidez es Grande) Entonces (Clase es \"C\")\n",
    "\n",
    "  - Regla 9: Si (Contenido de Agua es Alto) y (Índice de Acidez es Grande) Entonces (Clase es \"C\")"
   ]
  },
  {
   "cell_type": "markdown",
   "metadata": {},
   "source": [
    "El sistema está casi listo. <b>Falta completar algunas partes marcadas con #TODO </b>"
   ]
  },
  {
   "cell_type": "markdown",
   "metadata": {},
   "source": [
    "# Fusificación\n",
    "#### Clase para  definir variables linguisticas"
   ]
  },
  {
   "cell_type": "code",
   "execution_count": null,
   "metadata": {
    "collapsed": true
   },
   "outputs": [],
   "source": [
    "# Import NumPy and scikit-fuzzy\n",
    "import numpy as np\n",
    "import skfuzzy as fuzz\n",
    "import matplotlib.pyplot as plt\n",
    "\n",
    "class VariableLinguistica: \n",
    "    \"\"\" clase para definir una variable linguistica \"\"\"\n",
    "    def __init__(self, universo, fp_terminos):\n",
    "        self.universo = universo   # Universo de discurso\n",
    "        self.fp = fp_terminos      # Diccionario de Funciones de Pertenencia (FP) de cada termino\n",
    "                                   # El key es el nombre del termino linguistico."
   ]
  },
  {
   "cell_type": "markdown",
   "metadata": {},
   "source": [
    "#### Define variables linguisticas y funciones de pertenencia de terminos difusos"
   ]
  },
  {
   "cell_type": "code",
   "execution_count": null,
   "metadata": {},
   "outputs": [],
   "source": [
    "# crea variable linguistica Agua \n",
    "agua_univ = np.arange(0, 20.05, 0.05)   # universo de discurso de la variable Agua\n",
    "Agua = VariableLinguistica( agua_univ, \n",
    "                            {'bajo'  : fuzz.trapmf(agua_univ, [0,0,2.5,10]),\n",
    "                             'medio' : fuzz.trimf(agua_univ,  [2.5, 10, 17.5]),\n",
    "                             'alto'  : fuzz.trapmf(agua_univ, [10, 17.5, 20,20])} )\n",
    "\n",
    "# crea variable linguistica Acidez \n",
    "acidez_univ = np.arange(0, 12.05, 0.05)  # Universo de discurso de la variable Acidez\n",
    "Acidez = VariableLinguistica( acidez_univ, \n",
    "                              {'pequeño' : fuzz.trapmf(acidez_univ, [0, 0, 1.5,6]),\n",
    "                               'medio'   : fuzz.trapmf(acidez_univ, [0, 4.5, 7.5,12]),\n",
    "                               'grande'  : fuzz.trapmf(acidez_univ, [6, 10.5, 12,12])} )\n",
    "                        \n",
    "# crea variable linguistica Conservante  \n",
    "conservante_univ = np.arange(0, 1.05, 0.05)  # Universo de discurso de la variable Conservante\n",
    "\n",
    "## TODO  (Completar la definicion de la variable linguistica)\n",
    "#Conservante = VariableLinguistica( conservante_univ, \n",
    "#                                   {'A' :\n",
    "#                                    'B' :  \n",
    "#                                    'C' :   }) "
   ]
  },
  {
   "cell_type": "markdown",
   "metadata": {},
   "source": [
    "#### Funcion para plotear funciones de pertenencia de una variable linguistica"
   ]
  },
  {
   "cell_type": "code",
   "execution_count": null,
   "metadata": {
    "collapsed": true
   },
   "outputs": [],
   "source": [
    "def PlotFP (Varling):\n",
    "    ''' Plotea las funciones de pertenencia de los terminos de la variable linguistica Varling.'''\n",
    "    colores = ['r', 'b', 'g', 'y', 'm', 'k']\n",
    "    icolor = 0\n",
    "    terminos = []\n",
    "    for termino in Varling.fp.keys():\n",
    "        c = colores[icolor]\n",
    "        plt.plot(Varling.universo, Varling.fp[termino], color=c, linewidth=1.5, label=c)\n",
    "        terminos.append(termino)\n",
    "        icolor = (icolor + 1) % 6\n",
    "    \n",
    "    plt.ylabel('Funciones de membresia')\n",
    "    plt.legend(loc='center right', bbox_to_anchor=(1.25, 0.5),ncol=1, fancybox=True, shadow=True)\n",
    "    plt.ylim(0,1.5)\n",
    "    plt.legend(terminos)\n",
    "    plt.show()"
   ]
  },
  {
   "cell_type": "code",
   "execution_count": null,
   "metadata": {},
   "outputs": [],
   "source": [
    "# Muestra las funciones de pertenenia de las variables del presente problema\n",
    "plt.title('Contenido de Agua')\n",
    "PlotFP (Agua)\n",
    "\n",
    "plt.title('Indice de Acidez')\n",
    "PlotFP (Acidez)\n",
    "\n",
    "plt.title('Clase de Conservante')\n",
    "PlotFP (Conservante)"
   ]
  },
  {
   "cell_type": "markdown",
   "metadata": {},
   "source": [
    "# Inferencia Difusa\n",
    "\n",
    "### Definiendo las Reglas difusas\n",
    "Las reglas son implementadas como un diccionario. Cada entrada corresponde a una regla difusa, siendo el key los terminos linguisticos del antecedente de la regla (agua, acidez) y el valor es el termino linguistico del consecuente (clase de conservante)."
   ]
  },
  {
   "cell_type": "code",
   "execution_count": null,
   "metadata": {
    "collapsed": true
   },
   "outputs": [],
   "source": [
    "##TODO:  Completar las 9 reglas\n",
    "reglas = { ('bajo','pequeño')  : 'A',    # Regla 1\n",
    "           ('medio','pequeño') : 'A',    # Regla 2\n",
    "           ('alto','pequeño')  : 'B',    # Regla 3\n",
    "         }"
   ]
  },
  {
   "cell_type": "markdown",
   "metadata": {},
   "source": [
    "### Inferencia Mamdani"
   ]
  },
  {
   "cell_type": "code",
   "execution_count": null,
   "metadata": {
    "collapsed": true
   },
   "outputs": [],
   "source": [
    "def InferenciaMamdani( ant1_in, ant2_in, Ant1, Ant2, Con, reglas):\n",
    "\n",
    "    # Calcula la implicacion en reglas activadas\n",
    "    fp_agregada = np.zeros_like(Con.universo)   # array para agregar todas las FPs de salida implicadas\n",
    "    for ant_terms in reglas.keys():    # itera las reglas\n",
    "        alpha1 = fuzz.interp_membership( Ant1.universo, Ant1.fp[ant_terms[0]], ant1_in ) # nivel de activacion de antecedente 1\n",
    "        alpha2 = fuzz.interp_membership( Ant2.universo, Ant2.fp[ant_terms[1]], ant2_in ) # nivel de activacion de antecedente 2\n",
    "        alpha_min = np.fmin( alpha1, alpha2 )  # obtiene el minimo de activacion de los dos antecedentes (por ser conectivo AND)\n",
    "        \n",
    "        if alpha_min > 0:   # Procesa la implicacion solo si la regla esta activada (alpha_min >0)\n",
    "            # Implicacion Mamdani: corta la FP del termino consecuente al nivel alpha_min \n",
    "            con_term = reglas[ant_terms]  # obtiene el termino consecuente de la regla\n",
    "            fp_con_activ = np.fmin( alpha_min, Con.fp[ con_term ] ) # corta la FP del termino consecuente y salva en el diccionario \n",
    "    \n",
    "            # Agrega la FP con lo ya agregado hasta ahora  (agregacion Max)\n",
    "            fp_agregada = np.fmax(fp_agregada, fp_con_activ) \n",
    "            \n",
    "            # plotea la FP del termino del consecuente implicado \n",
    "            plt.plot(Con.universo, fp_con_activ, color='g', linewidth=1.5, label='g')\n",
    "            plt.ylabel('Funcion de pertenencia')\n",
    "            plt.ylim(0,1.5)\n",
    "            plt.title('FP activada del consecuente para regla: Ant1=' + ant_terms[0] + ', Ant2='+ ant_terms[1] + ', Con=' + con_term)\n",
    "            plt.show()\n",
    "            \n",
    "    # plotea la FP agregada del consecuente \n",
    "    plt.plot(Con.universo, fp_agregada, color='g', linewidth=1.5, label='g')\n",
    "    plt.ylabel('Funcion de pertenencia')\n",
    "    plt.ylim(0,1.5)\n",
    "    plt.title('Agregacion de todas las FPs activadas')\n",
    "    plt.show()\n",
    "    \n",
    "    # Defusificacion Usando Centroide \n",
    "    result_con = fuzz.defuzz(Con.universo, fp_agregada , 'centroid')\n",
    "    return result_con"
   ]
  },
  {
   "cell_type": "markdown",
   "metadata": {},
   "source": [
    "## Probando el sistema. \n",
    "La funcion InferenciaMamdani implementa el proceso de inferencia difuso. Los dos primero parametros son los valores crisp para las variables de entrada: contenido de agua e índice de acidez. El tercero y cuarto parametro son las variables linguisticas del antecedente (Agua  y Acidez). El quinto parametro es la variable linguistica de salida (Conservante). El sexto parametro es la base de reglas difusas.   "
   ]
  },
  {
   "cell_type": "code",
   "execution_count": null,
   "metadata": {},
   "outputs": [],
   "source": [
    "InferenciaMamdani( 9, 12, Agua, Acidez, Conservante, reglas  )"
   ]
  },
  {
   "cell_type": "markdown",
   "metadata": {},
   "source": [
    "## Preguntas\n",
    "\n",
    "1. Complete las partes faltantes (indicadas con #TODO):\n",
    "\n",
    "2. Determine la salida del sistema (tipo de conservante a ser aplicado) para cada caso de variables medidas abajo:\n",
    "\n",
    "    a) Contenido de Agua = 1.9 e Índice de Acidez = 0.3\n",
    "\n",
    "    b) Contenido de Agua = 5.6 e Índice de Acidez = 9.5\n",
    "\n",
    "    c) Contenido de Agua = 10.0 e Índice de Acidez = 6.00\n",
    "\n",
    "    d) Contenido de Agua = 19.2 y Índice de Acidez = 5.3\n",
    "    \n",
    "3. Para los mismos casos de la pregunta anterior, determine las salidas cuando aplicamos defuzzificación con el método: \"Média de los Máximos\" ('mom') y compare los resultados con los obtenidos en pregunta 2. \n",
    "\n",
    "\n",
    "4. Pruebe definir los universos de discursos con los siguiente valores de discretizacion: 0.1,  0.0001 y ejecute, para cada caso, las inferencias en los casos a), b) y c) de la pregunta 2. ¿Es significativa la influencia del nivel de discretización en los resultados?\n",
    "\n"
   ]
  },
  {
   "cell_type": "code",
   "execution_count": null,
   "metadata": {
    "collapsed": true
   },
   "outputs": [],
   "source": []
  }
 ],
 "metadata": {
  "kernelspec": {
   "display_name": "Python 3",
   "language": "python",
   "name": "python3"
  },
  "language_info": {
   "codemirror_mode": {
    "name": "ipython",
    "version": 3
   },
   "file_extension": ".py",
   "mimetype": "text/x-python",
   "name": "python",
   "nbconvert_exporter": "python",
   "pygments_lexer": "ipython3",
   "version": "3.7.4"
  }
 },
 "nbformat": 4,
 "nbformat_minor": 2
}
