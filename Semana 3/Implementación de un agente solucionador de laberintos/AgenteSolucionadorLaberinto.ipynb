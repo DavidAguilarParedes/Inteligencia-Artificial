{
 "cells": [
  {
   "cell_type": "markdown",
   "metadata": {
    "collapsed": true
   },
   "source": [
    "# INTELIGENCIA ARTIFICIAL (INF 371)\n",
    "Dr. Edwin Villanueva"
   ]
  },
  {
   "cell_type": "markdown",
   "metadata": {},
   "source": [
    "#  Agente Solucionador de Problemas en Laberintos\n",
    "\n",
    "En este notebook se implementa un Agente Simple de Solución de Problemas en entornos de Laberinto. \n",
    "\n",
    "El laberinto es leido de un archivo de texto que puede terner los siguientes caracteres:\n",
    "\n",
    "    '#': Indica que es una celda con obstaculo  (impasable) \n",
    "    '~': Indica que es una celda con agua (pasable, con costo 5)\n",
    "    ' ': Indica que es una celda vacia (passable con costo 1)\n",
    "    'S': Indica que es celda de Inicio\n",
    "    'G': Indicates que es celda Objetivo (premio de 100)\n",
    "    \n",
    " \n"
   ]
  },
  {
   "cell_type": "markdown",
   "metadata": {},
   "source": [
    "# Funciones para leer el laberinto de disco"
   ]
  },
  {
   "cell_type": "markdown",
   "metadata": {},
   "source": [
    "<b>readMazeFromFile</b>  La funcion readMazeFromFile lee un archivo de disco que contiene un laberinto y retorna una matriz de celdas del laberinto leido (grid).    grid es una lista de listas, ejemplo: [['#','S',' '],['#',' ','G'],['~','#','~']]"
   ]
  },
  {
   "cell_type": "code",
   "execution_count": null,
   "metadata": {},
   "outputs": [],
   "source": [
    "def readMazeFromFile(file):\n",
    "    fin = open(file)\n",
    "    lines = fin.read().splitlines()\n",
    "    grid = []\n",
    "    for line in lines: \n",
    "        grid.append(list(line))\n",
    "    return grid"
   ]
  },
  {
   "cell_type": "markdown",
   "metadata": {},
   "source": [
    "<b>getLocCells:</b> La funcion getLocCells devuelve la localizacion de la celda inicial (S) y celda objetivo (G) en un grid"
   ]
  },
  {
   "cell_type": "code",
   "execution_count": null,
   "metadata": {},
   "outputs": [],
   "source": [
    "def getLocCells(grid):\n",
    "    numRows = len(grid)\n",
    "    numCols = len(grid[0])\n",
    "    for i in range(numRows):\n",
    "        for j in range(numCols):\n",
    "            if len(grid[i]) != numCols:\n",
    "                raise \"Grid no Rectangular\"\n",
    "            if grid[i][j] == 'S':\n",
    "                cell_S = (i,j)\n",
    "            if grid[i][j] == 'G':\n",
    "                cell_G = (i,j)\n",
    "                \n",
    "    if cell_S == None:\n",
    "        raise \"No hay celda de Inicio\"\n",
    "    if cell_G == None:\n",
    "        raise \"No hay celda Objetivo (G)\"\n",
    "        \n",
    "    return cell_S, cell_G"
   ]
  },
  {
   "cell_type": "markdown",
   "metadata": {},
   "source": [
    "#### <b> Funciones para mostrar los resultados en el laberinto</b> "
   ]
  },
  {
   "cell_type": "code",
   "execution_count": null,
   "metadata": {},
   "outputs": [],
   "source": [
    "def grid2Str(grid):\n",
    "    \"\"\" Convierte un grid a un string para vizualizacion \"\"\"\n",
    "    numRows = len(grid)\n",
    "    numCols = len(grid[0])\n",
    "    strGrid = []\n",
    "    headerLine = ' ' + ('-' * (numCols)) + ' '\n",
    "    strGrid.append(headerLine)\n",
    "    for row in grid:\n",
    "        rowLine = '|' + ''.join(row) + '|'\n",
    "        strGrid.append(rowLine)\n",
    "    strGrid.append(headerLine)\n",
    "    return '\\n'.join(strGrid)"
   ]
  },
  {
   "cell_type": "code",
   "execution_count": null,
   "metadata": {},
   "outputs": [],
   "source": [
    "def showAgent(grid, agent_location, agent_performance):\n",
    "    \"\"\" Muestra los resultados en el grid.   \"\"\"\n",
    "    grid_copy = []\n",
    "    for row in grid:\n",
    "        grid_copy.append([x for x in row]) \n",
    "    row,col = agent_location\n",
    "    grid_copy[row][col] = 'X' \n",
    "    print (grid2Str(grid_copy))\n",
    "    print ('Desempeño del agente = {}'.format(agent_performance))\n",
    "    print (\"-------------------------------\")"
   ]
  },
  {
   "cell_type": "code",
   "execution_count": null,
   "metadata": {},
   "outputs": [],
   "source": [
    "def displaySearchResults(grid, visitedNodes, solutionNodes):\n",
    "    \"\"\" Muestra los resultados de busqueda en el grid.   \"\"\"\n",
    "    grid_copy = []\n",
    "    for row in grid:\n",
    "        grid_copy.append([x for x in row]) \n",
    "    for node in visitedNodes:\n",
    "        row,col = node.state\n",
    "        ch = grid[row][col]\n",
    "        if ch != 'S' and ch != 'G': grid_copy[row][col] = 'o' \n",
    "    for node in solutionNodes:  \n",
    "        row,col = node.state\n",
    "        ch = grid[row][col]\n",
    "        if ch != 'S' and ch != 'G': grid_copy[row][col] = 'x'    \n",
    "    print (grid2Str(grid_copy))\n",
    "    print (\"x - celdas en la solucion\")\n",
    "    print (\"o - celdas visitadas durante la busqueda\")\n",
    "    print (\"-------------------------------\")"
   ]
  },
  {
   "cell_type": "markdown",
   "metadata": {},
   "source": [
    "# Implementacion del Entorno  \n"
   ]
  },
  {
   "cell_type": "markdown",
   "metadata": {},
   "source": [
    "#### Clase <b>Thing</b>\n",
    "\n",
    "  Esta clase generica representa cualquier objeto fisico que puede aparecer en un <b>Ambiente</b>. (No editar)  "
   ]
  },
  {
   "cell_type": "code",
   "execution_count": null,
   "metadata": {},
   "outputs": [],
   "source": [
    "class Thing(object):\n",
    "\n",
    "    def is_alive(self):\n",
    "        \"\"\"Cosas 'vivas'deben retornar true.\"\"\"\n",
    "        return hasattr(self, 'alive') and self.alive\n",
    "\n",
    "    def show_state(self):\n",
    "        \"\"\"Muestra el estado interno del agente. Subclases deben sobreescribir esto.\"\"\"\n",
    "        print(\"I don't know how to show_state.\")"
   ]
  },
  {
   "cell_type": "markdown",
   "metadata": {},
   "source": [
    "#### Clase <b>Environment</b>\n",
    "\n",
    "Esta clase abstracta representa un entorno de tareas. Clases de entornos reales heredan de esta. En un entorno tipicamente se necesitará implementar 2 cosas:\n",
    "<b>percept</b>, que define la percepción que el agente ve; y \n",
    "<b>execute_action</b>, que define los efectos de ejecutar una acción. \n",
    "El entorno mantiene una lista de .things y .agents (el cual es un subconjunto de .things). Cada elemento de .things tiene un slot .location. (No editar)"
   ]
  },
  {
   "cell_type": "code",
   "execution_count": null,
   "metadata": {},
   "outputs": [],
   "source": [
    "class Environment(object):\n",
    "\n",
    "    def __init__(self):\n",
    "        self.things = []\n",
    "        self.agents = []\n",
    "\n",
    "    def thing_classes(self):\n",
    "        return []  # List of classes that can go into environment\n",
    "\n",
    "    def percept(self, agent):\n",
    "        \"\"\"Retorna la percepcion que el agente 'agent' ve en este punto.\"\"\"\n",
    "        raise NotImplementedError\n",
    "\n",
    "    def execute_action(self, agent, action):\n",
    "        \"\"\"El agente 'agent' ejecuta una accion 'action' en el entorno.\"\"\"\n",
    "        raise NotImplementedError\n",
    "\n",
    "    def default_location(self, thing):\n",
    "        \"\"\"Localización por defecto para colocar una nueva cosa sin localizacion especificada.\"\"\"\n",
    "        raise NotImplementedError\n",
    "\n",
    "    def is_done(self):\n",
    "        \"\"\"Retorna True si no hay ningun agente vivo\"\"\"\n",
    "        return not any(agent.is_alive() for agent in self.agents)\n",
    "\n",
    "    def add_thing(self, thing, location=None):\n",
    "        \"\"\"Añade una cosa thing al entorno en la localizacion location. \n",
    "           Si thing es un programa de agente, crea un nuevo agente con ese programa.\"\"\"\n",
    "        if not isinstance(thing, Thing):\n",
    "            thing = Agent(thing)\n",
    "        assert thing not in self.things, \"No añade la misma cosa dos veces\"\n",
    "        \n",
    "        if location is not None:\n",
    "            thing.location = location \n",
    "        else:\n",
    "            #print('colocara localizacion por defecto')\n",
    "            self.default_location(thing)\n",
    "        self.things.append(thing)\n",
    "        if isinstance(thing, Agent):\n",
    "            thing.performance = 0\n",
    "            self.agents.append(thing)\n",
    "\n",
    "    def step(self):\n",
    "        \"\"\"Ejecuta un paso del entorno (llama a los programas de los agentes, obtiene sus acciones y las ejecuta). \"\"\"\n",
    "        if not self.is_done():\n",
    "            actions = []\n",
    "            for agent in self.agents:\n",
    "                if agent.alive:\n",
    "                    actions.append(agent.program(self.percept(agent)))\n",
    "                else:\n",
    "                    actions.append(\"\")\n",
    "            for (agent, action) in zip(self.agents, actions):\n",
    "                self.execute_action(agent, action)\n",
    "\n",
    "    def run(self, steps=1000):\n",
    "        \"\"\"Ejecuta steps pasos en el entorno.\"\"\"\n",
    "        for step in range(steps):\n",
    "            if self.is_done():\n",
    "                return\n",
    "            self.step()"
   ]
  },
  {
   "cell_type": "markdown",
   "metadata": {},
   "source": [
    "#### Clase <b>MazeEnvironment</b>\n",
    "\n",
    "Esta clase implementa el entorno del laberinto. El estado percibido por un agente en este entorno corresponde a la tupla [grid, location]. Las acciones posibles para un agente son: 'N' (ir una celda al norte), 'S' (ir una celda al sur), 'W' (ir una celda al oeste), 'E' (ir una celda al este)  "
   ]
  },
  {
   "cell_type": "code",
   "execution_count": null,
   "metadata": {},
   "outputs": [],
   "source": [
    "class MazeEnvironment(Environment):\n",
    "    \n",
    "    def __init__(self, grid):\n",
    "        super().__init__()\n",
    "        self.grid = grid\n",
    "        self.numRows = len(grid)\n",
    "        self.numCols = len(grid[0])\n",
    "        self.startCell, self.goalCell = getLocCells(grid)\n",
    "        \n",
    "    def default_location(self, agent):\n",
    "        \"\"\"Coloca Localización por defecto a un agente sin localizacion especificada (en celda 'S').\"\"\"\n",
    "        agent.location = self.startCell\n",
    "        \n",
    "    def thing_classes(self):\n",
    "        return [Agent]\n",
    "\n",
    "    def percept(self, agent):\n",
    "        \"\"\"Retorna el estado del ambiente (location)\"\"\"\n",
    "        return agent.location\n",
    "    \n",
    "    def __isValidLocation(self,location):\n",
    "        \"\"\" Retorna true si la localizacion dada corresponde a una celda no bloqueada valida \"\"\"\n",
    "        row,col = location\n",
    "        if row < 0 or row >= self.numRows:\n",
    "            return False\n",
    "        if col < 0 or col >= self.numCols:\n",
    "            return False\n",
    "        return not self.grid[row][col] == '#'       \n",
    "\n",
    "    def execute_action(self, agent, action):\n",
    "        \"\"\"Implementa el MAPA De TRANSICION: Cambia la posicion del agente de acuerdo a la accion solicitada \"\"\"\n",
    "        row,col = agent.location   # obtiene posicion actual del agente\n",
    "        \n",
    "        if action == 'N' and self.__isValidLocation((row-1, col)):\n",
    "            agent.location = (row-1, col)\n",
    "            agent.performance -= 1\n",
    "        elif action == 'S' and self.__isValidLocation((row+1, col)):\n",
    "            agent.location = (row+1, col)\n",
    "            agent.performance -= 1\n",
    "        elif action == 'W' and self.__isValidLocation((row, col-1)):\n",
    "            agent.location = (row, col-1)\n",
    "            agent.performance -= 1\n",
    "        elif action == 'E' and self.__isValidLocation((row, col+1)):\n",
    "            agent.location = (row, col+1)\n",
    "            agent.performance -= 1\n",
    "            \n",
    "        if agent.location == self.goalCell: \n",
    "            agent.performance += 100     # suma 100 puntos al desempeño del agente cuando llega a celda objetivo \n",
    "\n"
   ]
  },
  {
   "cell_type": "markdown",
   "metadata": {},
   "source": [
    "# Implementacion de un Agente Reactivo  "
   ]
  },
  {
   "cell_type": "markdown",
   "metadata": {},
   "source": [
    "#### Clase <b>Agent</b>\n",
    "\n",
    "Un agente es una subclase de Thing con un slot obligatorio: <b>.program</b>, el cual almacena la funcion que implementa el <b>programa del agente</b>. Esta funcion debe tomar como argumento la <b>percepcion</b> del agente y debe retornar una <b>accion</b>. La definicion de Percepcion y Accion depende del ambiente de trabajo (environment) donde el agente existe. El agente tambien puede tener el slot <b>.performance</b>, que mide el desempeño del agente en su ambiente."
   ]
  },
  {
   "cell_type": "code",
   "execution_count": null,
   "metadata": {},
   "outputs": [],
   "source": [
    "import collections\n",
    "import random\n",
    "\n",
    "class Agent(Thing):\n",
    "    def __init__(self, program=None):\n",
    "        self.alive = True\n",
    "        self.performance = 0\n",
    "        assert isinstance(program, collections.Callable)\n",
    "        self.program = program"
   ]
  },
  {
   "cell_type": "markdown",
   "metadata": {},
   "source": [
    "#### <b>Clase que implementa un Programa de Agente Reactivo para el entorno MazeEnvironment</b>\n"
   ]
  },
  {
   "cell_type": "code",
   "execution_count": null,
   "metadata": {},
   "outputs": [],
   "source": [
    "class MazeReactiveAgentProgram:\n",
    "    def __init__(self, grid):\n",
    "        self.grid = grid\n",
    "        \n",
    "    def __call__(self, percept):\n",
    "        state = percept\n",
    "        print('Agente recibiendo percepcion de localizacion = {}'.format(state))\n",
    "        action = '' \n",
    "        \n",
    "        if state == (2,4):\n",
    "            action = 'N'\n",
    "        if state == (1,4):\n",
    "            action = 'N'\n",
    "        if state == (0,4):\n",
    "            action = 'W'\n",
    "        if state == (0,3):\n",
    "            action = 'W'\n",
    "        if state == (0,2):\n",
    "            action = 'W'\n",
    "        if state == (0,1):\n",
    "            action = 'W'\n",
    "        \n",
    "        return action "
   ]
  },
  {
   "cell_type": "markdown",
   "metadata": {},
   "source": [
    "# Implementacion de un Agente Solucionador  para el Laberinto  \n"
   ]
  },
  {
   "cell_type": "markdown",
   "metadata": {},
   "source": [
    "#### Clase <b>SearchProblem</b>\n",
    "\n",
    "Esta es una clase abstracta para definir problemas de busqueda. Se debe hacer subclases que implementen los metodos de las acciones, resultados, test de objetivo y el costo de camino. Entonces se puede instanciar las subclases y resolverlos con varias funciones de busqueda."
   ]
  },
  {
   "cell_type": "code",
   "execution_count": null,
   "metadata": {},
   "outputs": [],
   "source": [
    "class SearchProblem(object):\n",
    "    def __init__(self, initial, goal=None):\n",
    "        \"\"\"Este constructor especifica el estado inicial y posiblemente el estado(s) objetivo(s),\n",
    "        La subclase puede añadir mas argumentos.\"\"\"\n",
    "        self.initial = initial\n",
    "        self.goal = goal\n",
    "\n",
    "    def actions(self, state):\n",
    "        \"\"\"Retorna las acciones que pueden ser ejecutadas en el estado dado.\n",
    "        El resultado es tipicamente una lista.\"\"\"\n",
    "        raise NotImplementedError\n",
    "\n",
    "    def result(self, state, action):\n",
    "        \"\"\"Retorna el estado que resulta de ejecutar la accion dada en el estado state.\n",
    "        La accion debe ser alguna de self.actions(state).\"\"\"\n",
    "        raise NotImplementedError\n",
    "\n",
    "    def goal_test(self, state):\n",
    "        \"\"\"Retorna True si el estado pasado satisface el objetivo.\"\"\"\n",
    "        raise NotImplementedError\n",
    "\n",
    "    def path_cost(self, c, state1, action, state2):\n",
    "        \"\"\"Retorna el costo del camino de state2 viniendo de state1 con \n",
    "        la accion action, asumiendo un costo c para llegar hasta state1. \n",
    "        El metodo por defecto cuesta 1 para cada paso en el camino.\"\"\"\n",
    "        return c + 1"
   ]
  },
  {
   "cell_type": "markdown",
   "metadata": {},
   "source": [
    "####  <b> Clase MazeSearchProblem </b>  \n",
    "Esta es una subclase de SearchProblem que implementa concretamente el problema de busqueda en laberinto. El constructor recibe el grid del laberinto, una localizacion inicial y una una localizacion objetivo. Cada estado es representado internamente como una tupla (row,col) que indica la posicion del agente en una celda del grid. "
   ]
  },
  {
   "cell_type": "code",
   "execution_count": null,
   "metadata": {},
   "outputs": [],
   "source": [
    "class MazeSearchProblem(SearchProblem):\n",
    "    def __init__(self, grid, initial, goal):\n",
    "        \"\"\"El constructor recibe el grid, localizacion inicial y localizacion objetivo\"\"\"\n",
    "        self.grid = grid\n",
    "        self.numRows = len(grid)\n",
    "        self.numCols = len(grid[0])\n",
    "        self.initial = initial\n",
    "        self.goal = goal\n",
    "        \n",
    "        self.numNodesExpanded = 0        \n",
    "        self.expandedNodeSet = {}   \n",
    "        \n",
    "    def __isValidState(self,state):\n",
    "        \"\"\" Retorna true si el estado dado corresponde a una celda no bloqueada valida \"\"\"\n",
    "        row,col = state\n",
    "        if row < 0 or row >= self.numRows:\n",
    "            return False\n",
    "        if col < 0 or col >= self.numCols:\n",
    "            return False\n",
    "        return not self.grid[row][col] == '#'         \n",
    "\n",
    "    def actions(self, state):\n",
    "        \"\"\"Retorna las acciones legales desde la celda actual \"\"\"\n",
    "        row,col = state\n",
    "        acciones = []\n",
    "        if self.__isValidState((row-1, col)):\n",
    "            acciones.append('N')\n",
    "        if self.__isValidState((row+1, col)):\n",
    "            acciones.append('S')\n",
    "        if self.__isValidState((row, col-1)):\n",
    "            acciones.append('W')            \n",
    "        if self.__isValidState((row, col+1)):\n",
    "            acciones.append('E')            \n",
    "        return acciones\n",
    "    \n",
    "    def result(self, state, action):\n",
    "        \"\"\"Retorna el estado que resulta de ejecutar la accion dada desde la celda actual.\n",
    "        La accion debe ser alguna de self.actions(state)\"\"\"  \n",
    "        row,col = state\n",
    "        newState = ()\n",
    "        if action == 'N':\n",
    "            newState = (row-1, col)\n",
    "        if action == 'S':\n",
    "            newState = (row+1, col)\n",
    "        if action == 'W':\n",
    "            newState = (row, col-1)    \n",
    "        if action == 'E':\n",
    "            newState = (row, col+1)          \n",
    "        return newState\n",
    "        \n",
    "    def goal_test(self, state):\n",
    "        \"\"\"Retorna True si state es self.goal\"\"\"\n",
    "        return (self.goal == state) \n",
    "\n",
    "    def path_cost(self, c, state1, action, state2):\n",
    "        \"\"\"Retorna el costo del camino de state2 viniendo de state1 con la accion action \n",
    "        El costo del camino para llegar a state1 es c. El costo de la accion sale del grid \"\"\"\n",
    "        row, col = state2\n",
    "        if self.grid[row][col] == ' ':  # si celda es vacia\n",
    "            actionCost = 1\n",
    "        elif self.grid[row][col] == '~': # si celda tiene agua\n",
    "            actionCost = 5\n",
    "        elif self.grid[row][col] == 'I' or self.grid[row][col] == 'G' or self.grid[row][col] == 'S':\n",
    "            actionCost = 1\n",
    "        else:\n",
    "            raise \"El costo de una celda bloqueada no esta definido\" \n",
    "        return c + actionCost"
   ]
  },
  {
   "cell_type": "markdown",
   "metadata": {},
   "source": [
    "#### Clase <b>Node</b>\n",
    "\n",
    "Estructura de datos para almacenar la informacion de un nodo en un <b>arbol de busqueda</b>. Contiene información del nodo padre y el estado que representa el nodo. Tambien incluye la accion que nos llevo al presente nodo y el costo total del camino desde el nodo raiz hasta este nodo."
   ]
  },
  {
   "cell_type": "code",
   "execution_count": null,
   "metadata": {},
   "outputs": [],
   "source": [
    "class Node:\n",
    "\n",
    "    def __init__(self, state, parent=None, action=None, path_cost=0):\n",
    "        \"Crea un nodo de arbol de busqueda, derivado del nodo parent y accion action\"\n",
    "        self.state = state\n",
    "        self.parent = parent\n",
    "        self.action = action\n",
    "        self.path_cost = path_cost\n",
    "        self.depth = 0\n",
    "        if parent:\n",
    "            self.depth = parent.depth + 1\n",
    "\n",
    "    def expand(self, problem):\n",
    "        \"Devuelve los nodos alcanzables en un paso a partir de este nodo.\"\n",
    "        return [self.child_node(problem, action)\n",
    "                for action in problem.actions(self.state)]\n",
    "\n",
    "    def child_node(self, problem, action):\n",
    "        next_state = problem.result(self.state, action)\n",
    "        return Node(next_state, self, action,\n",
    "                    problem.path_cost(self.path_cost, self.state, action, next_state))\n",
    "\n",
    "    def solution(self):\n",
    "        \"Retorna la secuencia de acciones para ir de la raiz a este nodo.\"\n",
    "        return [node.action for node in self.path()[1:]]\n",
    "\n",
    "    def path(self):\n",
    "        \"Retorna una lista de nodos formando un camino de la raiz a este nodo.\"\n",
    "        node, path_back = self, []\n",
    "        while node:\n",
    "            path_back.append(node)\n",
    "            node = node.parent\n",
    "        return list(reversed(path_back))"
   ]
  },
  {
   "cell_type": "markdown",
   "metadata": {},
   "source": [
    "#### Clase <b>FIFOQueue</b> \n",
    "Define la clase que implementa una cola tipo FIFO First-In-First-Out (para BFS)"
   ]
  },
  {
   "cell_type": "code",
   "execution_count": null,
   "metadata": {},
   "outputs": [],
   "source": [
    "from collections import deque\n",
    "\n",
    "class FIFOQueue(deque):\n",
    "    \"\"\"Una cola First-In-First-Out\"\"\"\n",
    "    def pop(self):\n",
    "        return self.popleft()"
   ]
  },
  {
   "cell_type": "markdown",
   "metadata": {},
   "source": [
    "#### <b>Algoritmo general de búsqueda con memoria de estados visitados (Graph Search)</b>\n",
    "\n",
    "Busca en los sucesores de un problema para encontrar un objetivo. El argumento frontier debe ser una cola vacia. Si dos caminos arrivan al mismo estado, solo usa el primero."
   ]
  },
  {
   "cell_type": "code",
   "execution_count": null,
   "metadata": {},
   "outputs": [],
   "source": [
    "def graph_search(problem, frontier):\n",
    "\n",
    "    frontier.append(Node(problem.initial))\n",
    "    explored = set()\n",
    "    visited_nodes = []   # almacena nodos visitados durante la busqueda (para fines de visualizacion)\n",
    "    while frontier:\n",
    "        node = frontier.pop()\n",
    "        visited_nodes.append(node)   # nodo que se toma de la frontera es nodo visitado \n",
    "        if problem.goal_test(node.state):\n",
    "            return node, visited_nodes\n",
    "        explored.add(node.state)\n",
    "        frontier.extend(child for child in node.expand(problem)\n",
    "                        if child.state not in explored and\n",
    "                        child not in frontier)\n",
    "    return None"
   ]
  },
  {
   "cell_type": "markdown",
   "metadata": {},
   "source": [
    "### Programa de agente solucionador de problemas para el entorno MazeEnvironment\n"
   ]
  },
  {
   "cell_type": "code",
   "execution_count": null,
   "metadata": {},
   "outputs": [],
   "source": [
    "class MazeSearchAgentProgram:\n",
    "    def __init__(self, grid, search_method):\n",
    "        self.grid = grid\n",
    "        self.initial, self.goal = getLocCells(grid) \n",
    "        self.search_method = search_method\n",
    "        self.seq = []  # lista de acciones a ejecutar, inicialmente vacia\n",
    "        \n",
    "    def __call__(self, percept):\n",
    "        state = percept\n",
    "        print('Agente percibiendo localizacion = {}'.format(state))\n",
    "        \n",
    "        if state == self.goal:    # Si el ambiente esta en el estado objetivo no hace nada\n",
    "            return 'None'\n",
    "        if not self.seq:  # si la lista de acciones esta vacia\n",
    "            print('Planeando solucion: estado_inicial = {}. estado_objetivo={}'.format(state,self.goal))\n",
    "            search_problem = MazeSearchProblem(self.grid, state, self.goal) # instancia el problema de busqueda\n",
    "            if self.search_method == 'bfs':\n",
    "                # busca solucion con busqueda en amplitud\n",
    "                goal_node, visited_nodes = graph_search(search_problem, FIFOQueue()) # frontera tipo cola FIFO \n",
    "            elif self.search_method == 'dfs':\n",
    "                # busca solucion con busqueda en profundidad\n",
    "                goal_node, visited_nodes = graph_search(search_problem, []) # frontera tipo pila ([] es una pila en Python)\n",
    "            else:\n",
    "                raise NotImplementedError\n",
    "                        \n",
    "            if goal_node == None: # sin solucion\n",
    "                print('No se pudo encontrar solucion para el maze con metodo {}'.format(self.search_method) )\n",
    "                return 'None'\n",
    "            \n",
    "            self.seq = goal_node.solution()\n",
    "            print('Solution found with {}: Seq = {}. visited_nodes={}. path_cost = {}'.format(self.search_method, self.seq, len(visited_nodes),goal_node.path_cost))\n",
    "            displaySearchResults(self.grid, visited_nodes, goal_node.path())\n",
    "            \n",
    "        action = self.seq.pop(0)       \n",
    "        return action "
   ]
  },
  {
   "cell_type": "markdown",
   "metadata": {},
   "source": [
    "# Probando el agente solucionador de problemas en MazeEnvironment"
   ]
  },
  {
   "cell_type": "code",
   "execution_count": null,
   "metadata": {},
   "outputs": [],
   "source": [
    "# Carga un laberinto de archivo en disco, instancia el entorno y visualiza el grid\n",
    "mazegrid = readMazeFromFile('maze3.txt') \n",
    "e = MazeEnvironment(mazegrid)\n",
    "print(grid2Str(mazegrid))\n"
   ]
  },
  {
   "cell_type": "code",
   "execution_count": null,
   "metadata": {},
   "outputs": [],
   "source": [
    "# Instancia el agente de solucion de problemas y lo añade al entorno del laberinto\n",
    "a = Agent( MazeSearchAgentProgram (mazegrid, 'bfs') ) \n",
    "e.add_thing(a) \n",
    "\n",
    "showAgent (mazegrid, a.location, a.performance)   # Agente es mostrado como una X\n"
   ]
  },
  {
   "cell_type": "code",
   "execution_count": null,
   "metadata": {},
   "outputs": [],
   "source": [
    "# Ejecuta 20 pasos del ambiente \n",
    "e.run(20)\n",
    "showAgent (mazegrid, a.location, a.performance)  # Agente es mostrado como una X"
   ]
  }
 ],
 "metadata": {
  "kernelspec": {
   "display_name": "Python 3",
   "language": "python",
   "name": "python3"
  },
  "language_info": {
   "codemirror_mode": {
    "name": "ipython",
    "version": 3
   },
   "file_extension": ".py",
   "mimetype": "text/x-python",
   "name": "python",
   "nbconvert_exporter": "python",
   "pygments_lexer": "ipython3",
   "version": "3.7.3"
  }
 },
 "nbformat": 4,
 "nbformat_minor": 2
}
