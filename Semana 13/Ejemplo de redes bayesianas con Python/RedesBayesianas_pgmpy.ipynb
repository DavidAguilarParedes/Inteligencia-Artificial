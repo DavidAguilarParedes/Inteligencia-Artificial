{
 "cells": [
  {
   "cell_type": "markdown",
   "metadata": {},
   "source": [
    "# Modelado e Inferencia de Redes Bayesianas con pgmpy\n",
    "Dr. Edwin Villanueva Talavera (ervillanueva@pucp.edu.pe)\n",
    "\n",
    "Vamos a crear la red Bayesiana Alarm, usada de ejemplo en clase:\n",
    "<p><img src=\"http://norvig.com/ipython/burglary2.jpg\">"
   ]
  },
  {
   "cell_type": "code",
   "execution_count": 2,
   "metadata": {},
   "outputs": [],
   "source": [
    "!pip install pgmpy \n",
    "from pgmpy.models import BayesianModel\n",
    "from pgmpy.factors.discrete import TabularCPD"
   ]
  },
  {
   "cell_type": "markdown",
   "metadata": {},
   "source": [
    "## Definiendo la estructura del modelo\n",
    "Se define la estructura pasando la lista de arcos "
   ]
  },
  {
   "cell_type": "code",
   "execution_count": 3,
   "metadata": {},
   "outputs": [],
   "source": [
    "bn = BayesianModel([('B', 'A'), \n",
    "                    ('E', 'A'),\n",
    "                    ('A', 'J'),\n",
    "                    ('A', 'M')])"
   ]
  },
  {
   "cell_type": "markdown",
   "metadata": {},
   "source": [
    "## Definiendo los parametros del modelo (CPTs)\n",
    "En pgmpy las columnas son los valores de los padres (evdencias) y las filas son los estados de las variables "
   ]
  },
  {
   "cell_type": "code",
   "execution_count": 4,
   "metadata": {},
   "outputs": [],
   "source": [
    "cpd_B = TabularCPD(variable='B', variable_card=2,\n",
    "                      values=[[0.001], \n",
    "                              [0.999]])\n",
    "\n",
    "cpd_E = TabularCPD(variable='E', variable_card=2,\n",
    "                       values=[[0.002], \n",
    "                               [0.998]])\n",
    "\n",
    "cpd_A = TabularCPD(variable='A', variable_card=2,\n",
    "                        values=[[0.95, 0.94, 0.29, 0.001],\n",
    "                                [0.05, 0.06, 0.71, 0.999]],\n",
    "                        evidence=['B', 'E'],\n",
    "                        evidence_card=[2, 2])\n",
    "\n",
    "cpd_J = TabularCPD(variable='J', variable_card=2,\n",
    "                      values=[[0.9, 0.05],\n",
    "                              [0.1, 0.95]],\n",
    "                      evidence=['A'], evidence_card=[2])\n",
    "\n",
    "cpd_M = TabularCPD(variable='M', variable_card=2,\n",
    "                      values=[[0.7, 0.01], \n",
    "                              [0.3, 0.99]],\n",
    "                      evidence=['A'], evidence_card=[2])"
   ]
  },
  {
   "cell_type": "markdown",
   "metadata": {},
   "source": [
    "## Asociando los CPTs con la estructura del modelo\n"
   ]
  },
  {
   "cell_type": "code",
   "execution_count": 5,
   "metadata": {},
   "outputs": [],
   "source": [
    "bn.add_cpds(cpd_B, cpd_E, cpd_A, cpd_J, cpd_M)"
   ]
  },
  {
   "cell_type": "markdown",
   "metadata": {},
   "source": [
    "## Chequeando consistencia de la Red Bayesiana\n",
    "Chequea que todos los CPTs sean válidos para el modelo"
   ]
  },
  {
   "cell_type": "code",
   "execution_count": 6,
   "metadata": {},
   "outputs": [
    {
     "data": {
      "text/plain": [
       "True"
      ]
     },
     "execution_count": 6,
     "metadata": {},
     "output_type": "execute_result"
    }
   ],
   "source": [
    "bn.check_model()"
   ]
  },
  {
   "cell_type": "markdown",
   "metadata": {},
   "source": [
    "## Haciendo inferencias en la RB con algoritmo VariableElimination \n"
   ]
  },
  {
   "cell_type": "markdown",
   "metadata": {},
   "source": [
    "Vamos a preguntar a la RB con el algoritmo ** VariableElimination ** Cuál es la distribucion de \"B\" (Burglary) habiendo obsevado que \"J\" y \"M\" son true (John y Mary llaman)  "
   ]
  },
  {
   "cell_type": "code",
   "execution_count": 7,
   "metadata": {},
   "outputs": [],
   "source": [
    "from pgmpy.inference import VariableElimination"
   ]
  },
  {
   "cell_type": "code",
   "execution_count": 8,
   "metadata": {},
   "outputs": [],
   "source": [
    "bn_inference = VariableElimination(bn)"
   ]
  },
  {
   "cell_type": "code",
   "execution_count": 10,
   "metadata": {},
   "outputs": [
    {
     "name": "stdout",
     "output_type": "stream",
     "text": [
      "[0.2310087 0.7689913]\n"
     ]
    }
   ],
   "source": [
    "q = bn_inference.query(variables=['E'], evidence={'A': 0})\n",
    "print(q['E'].values)"
   ]
  },
  {
   "cell_type": "markdown",
   "metadata": {},
   "source": [
    "## Obteniendo las independencias Condicionales implicadas en la RB  "
   ]
  },
  {
   "cell_type": "code",
   "execution_count": 9,
   "metadata": {},
   "outputs": [
    {
     "data": {
      "text/plain": [
       "(B _|_ E)\n",
       "(B _|_ J, M | A)\n",
       "(B _|_ M | J, A)\n",
       "(B _|_ J, M | E, A)\n",
       "(B _|_ J | M, A)\n",
       "(B _|_ M | J, E, A)\n",
       "(B _|_ J | E, A, M)\n",
       "(E _|_ B)\n",
       "(E _|_ J, M | A)\n",
       "(E _|_ M | J, A)\n",
       "(E _|_ J | M, A)\n",
       "(E _|_ J, M | B, A)\n",
       "(E _|_ M | J, B, A)\n",
       "(E _|_ J | M, B, A)\n",
       "(J _|_ E, B, M | A)\n",
       "(J _|_ M, B | E, A)\n",
       "(J _|_ E, M | B, A)\n",
       "(J _|_ E, B | M, A)\n",
       "(J _|_ M | E, B, A)\n",
       "(J _|_ B | E, A, M)\n",
       "(J _|_ E | M, B, A)\n",
       "(M _|_ J, E, B | A)\n",
       "(M _|_ E, B | J, A)\n",
       "(M _|_ J, B | E, A)\n",
       "(M _|_ J, E | B, A)\n",
       "(M _|_ B | J, E, A)\n",
       "(M _|_ E | J, B, A)\n",
       "(M _|_ J | E, B, A)"
      ]
     },
     "execution_count": 9,
     "metadata": {},
     "output_type": "execute_result"
    }
   ],
   "source": [
    "bn.get_independencies()"
   ]
  },
  {
   "cell_type": "code",
   "execution_count": null,
   "metadata": {
    "collapsed": true
   },
   "outputs": [],
   "source": []
  }
 ],
 "metadata": {
  "kernelspec": {
   "display_name": "Python 3",
   "language": "python",
   "name": "python3"
  },
  "language_info": {
   "codemirror_mode": {
    "name": "ipython",
    "version": 3
   },
   "file_extension": ".py",
   "mimetype": "text/x-python",
   "name": "python",
   "nbconvert_exporter": "python",
   "pygments_lexer": "ipython3",
   "version": "3.7.3"
  }
 },
 "nbformat": 4,
 "nbformat_minor": 2
}
