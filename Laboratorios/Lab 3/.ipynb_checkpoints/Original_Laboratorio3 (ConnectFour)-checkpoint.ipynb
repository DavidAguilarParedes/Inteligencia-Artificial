{
 "cells": [
  {
   "cell_type": "markdown",
   "metadata": {
    "colab_type": "text",
    "id": "xrPGVp-FFhLt"
   },
   "source": [
    "# INTELIGENCIA ARTIFICIAL (INF 371)¶\n",
    "Dr. Edwin Villanueva (ervillanueva@pucp.edu.pe)"
   ]
  },
  {
   "cell_type": "markdown",
   "metadata": {
    "colab_type": "text",
    "id": "beheH1jIFhLx"
   },
   "source": [
    "#  Laboratorio 3: Busqueda adversarial en juego  Connect Four\n",
    "\n",
    "El presente laboratorio aborda el problema de busqueda adversarial en el juego Connect Four (ver figura). Connect Four es una variante del juego k-en-raya (TicTacToe), donde el tamaño del tablero es de h=6 filas, v=7 columnas  y k=4 (gana el que haga primero 4 en raya). La diferencia con el clasico k-en-raya  es que en Connect Four solo se permite movidas en los casilleros vacios más bajos de las columnas (como si las fichas fueran atraídas hacia abajo por la gravedad). El entorno de juego k-en-raya está implementado (clase TicTacToe). Estan tambien implementados los algoritmos MIN-MAX, ALPHA-BETHA y Monte Carlo Tree Search que pueden ser llamados como jugadores. La clase <b>ConnectFour</b> implementa el entorno del juego Connect Four  (hereda de TicTacToe). Solo esta faltando implementar el metodo <b>actions</b> en dicha clase para tener completamente definido el juego. \n",
    "\n",
    "<img src='https://upload.wikimedia.org/wikipedia/commons/a/ad/Connect_Four.gif' width=300px>\n",
    "\n",
    "Considerar que las fichas del jugador MAX son **X**, mientas que las fichas del jugador MIN son **O**\n",
    "\n",
    "Al final del notebook  responder a las preguntas planteadas. "
   ]
  },
  {
   "cell_type": "markdown",
   "metadata": {
    "colab_type": "text",
    "id": "KCaN_EGxFhLy"
   },
   "source": [
    "### Clase <b>Game</b>\n",
    "\n",
    "Esta es una clase genérica para definir un entorno de juego. Es parecida a la clase Problem de busqueda, pero con algunos cambios. No hay método que devuelve el costo de camino (no es relevante). Se tiene un metodo que devuelve la Utilidad de un jugador en un estado dado (estamos lidiando con agentes basados en utilidad). También la funcion test de objetivo es reemplazada por un test de estado terminal (terminal_test). Para crear una clase de un juego específico se debe hacer una subclase de Game e implementar los métodos actions, result, utility, and terminal_test. El atributo .initial (estado inicial del juego) deberá ser inicializado en el constructor de la clase concreta. No editar esta clase Game"
   ]
  },
  {
   "cell_type": "code",
   "execution_count": null,
   "metadata": {
    "colab": {},
    "colab_type": "code",
    "id": "rxbfbcmYFhL2"
   },
   "outputs": [],
   "source": [
    "class Game:\n",
    "\n",
    "    def actions(self, state):\n",
    "        \"\"\"Retorna una lista de movidas permitidas en el estado actual state.\"\"\"\n",
    "        raise NotImplementedError\n",
    "\n",
    "    def result(self, state, move):\n",
    "        \"\"\"Retorna el nuevo estado que resulta de hacer una movida move en el estado state.\"\"\"\n",
    "        raise NotImplementedError\n",
    "\n",
    "    def utility(self, state, player):\n",
    "        \"\"\"Retorna el valor de utilidad para el jugador player en el estado terminal state.\"\"\"\n",
    "        raise NotImplementedError\n",
    "\n",
    "    def terminal_test(self, state):\n",
    "        \"\"\"Retorna True si el estado state es un estado terminal del juego.\"\"\"\n",
    "        return not self.actions(state)\n",
    "\n",
    "    def to_move(self, state):\n",
    "        \"\"\"Retorna el jugador que le toca jugar en el presente estado state.\"\"\"\n",
    "        return state.to_move\n",
    "\n",
    "    def display(self, state):\n",
    "        \"\"\"Imprime o displaya el state.\"\"\"\n",
    "        print(state)\n",
    "\n",
    "    def __repr__(self):\n",
    "        return '<{}>'.format(self.__class__.__name__)\n",
    "\n",
    "    def play_game(self, *players, verbose=False):\n",
    "        \"\"\"Controlador del juego:\n",
    "        Llama alternadamente a cada jugador pasandole el estado actual del juego y ejecutando la movida retornada.\"\"\"\n",
    "        state = self.initial\n",
    "        numJugada = 0\n",
    "        while True:\n",
    "            for player in players:\n",
    "                move = player(self, state)\n",
    "                mark_now = self.to_move(state)\n",
    "                state = self.result(state, move)\n",
    "                numJugada = numJugada + 1\n",
    "                if verbose:\n",
    "                    print(\"Jugada\", numJugada, \": Turno del jugador\", player.__name__, \"(\",mark_now,\")\")\n",
    "                    self.display(state)\n",
    "                    print(\"*************************************************\", flush=True)\n",
    "                if self.terminal_test(state):\n",
    "                    print(\"Jugada\", numJugada, \"(final): Turno del jugador\", player.__name__, \"(\",mark_now,\")\")\n",
    "                    self.display(state)\n",
    "                    print(\"La utilidad del primer jugador (\",self.to_move(self.initial),\") fue: \")\n",
    "                    #retorna utilidad del 1er jugador al acabar el juego\n",
    "                    return self.utility(state, self.to_move(self.initial))"
   ]
  },
  {
   "cell_type": "markdown",
   "metadata": {
    "colab_type": "text",
    "id": "_iRGkpn-FhME"
   },
   "source": [
    "### Clase <b>TicTacToe</b>\n",
    "\n",
    "Esta es una subclase de Game para definir el entorno del juego k en Raya (generalizacion de TicTacToe). Las dimensiones del tablero son seteadas en el constructor (h=numero de filas, v=numero de columnas, k=numero de elementos en raya para ganar). Primer jugador (Max) es 'X' y el otro jugador (Min) es 'O'. Un estado en este juego es una tupla (GameState) con los siguientes campos:\n",
    " - to_move: almacena el jugador que le toca jugar \n",
    " - utility: almacena la utilidad del estado\n",
    " - board: almacena las posiciones ocupadas en el tablero en la forma de un dicccionario de entradas {(x, y): Player}, donde Player puede ser 'X' o 'O'\n",
    " - moves: almacena las movidas posibles a partir del estado en la forma de lista de posiciones (x.y) "
   ]
  },
  {
   "cell_type": "code",
   "execution_count": null,
   "metadata": {
    "colab": {},
    "colab_type": "code",
    "id": "h-l0fGoRFhMF"
   },
   "outputs": [],
   "source": [
    "from collections import namedtuple\n",
    "import random\n",
    "import itertools\n",
    "import copy\n",
    "import random\n",
    "\n",
    "#Un estado es una tupla con nombres de campos (namedtuple)\n",
    "GameState = namedtuple('GameState', 'to_move, utility, board, moves') \n",
    "\n",
    "# Funcion para chequer si hay un k en raya en el tablero (https://github.com/aimacode/aima-python)\n",
    "def k_in_row(board, player, square, k): \n",
    "    \"\"\"Devuelve True, si el jugador \"player\" tiene k piezas en una fila, desde la posición square.\"\"\"\n",
    "    def in_row(x, y, dx, dy): return 0 if board.get((x, y)) != player else 1 + in_row(x + dx, y + dy, dx, dy)\n",
    "    return any(in_row(*square, dx, dy) + in_row(*square, -dx, -dy) - 1 >= k\n",
    "               for (dx, dy) in ((0, 1), (1, 0), (1, 1), (1, -1)))\n",
    "\n",
    "\n",
    "class TicTacToe(Game):\n",
    "    \n",
    "    def __init__(self, h=3, v=3, k=3):\n",
    "        self.h = h\n",
    "        self.v = v\n",
    "        self.k = k\n",
    "        moves = [(x, y) for x in range(1, h + 1) for y in range(1, v + 1)]\n",
    "        self.initial = GameState(to_move='X', utility=0, board={}, moves=moves)\n",
    "\n",
    "    def actions(self, state):\n",
    "        \"\"\"Movidas legales son todas las posiciones aun sin marcar (el estado almacena las movidas legales)\"\"\"\n",
    "        return state.moves\n",
    "\n",
    "    def result(self, state, move):\n",
    "        \"\"\"Retorna el nuevo estado de hacer la movida move en el estado state .\"\"\"\n",
    "        if move not in state.moves:\n",
    "            return state  # Si es una movida ilegal retorna sin cambiar el estado\n",
    "        board = state.board.copy()\n",
    "        board[move] = state.to_move\n",
    "        moves = list(state.moves)\n",
    "        moves.remove(move)\n",
    "        return GameState(to_move=('O' if state.to_move == 'X' else 'X'),\n",
    "                         utility=self.compute_utility(board, move, state.to_move),\n",
    "                         board=board, moves=moves)\n",
    "\n",
    "    def utility(self, state, player):\n",
    "        \"\"\"Retorna la utilidad del player en estado terminal state; 1 si ganó, -1 si perdió, 0 empate.\"\"\"\n",
    "        return state.utility if player == 'X' else -state.utility\n",
    "\n",
    "    def terminal_test(self, state):\n",
    "        \"\"\"Un estado es terminal si hay un ganador o no hay mas movidas posibles.\"\"\"\n",
    "        return state.utility != 0 or len(state.moves) == 0\n",
    "\n",
    "    def display(self, state):\n",
    "        board = state.board\n",
    "        for x in range(1, self.h + 1):\n",
    "            for y in range(1, self.v + 1):\n",
    "                print(board.get((x, y), '.'), end=' ')\n",
    "            print()\n",
    "            \n",
    "    def compute_utility(self, board, move, player):\n",
    "        \"\"\"Retorna  1 si player='X'  ha llegado a estado terminal ganador con movida move, \n",
    "           Retorna -1 si player='O' ha llegado a estado terminal ganador con movida move; \n",
    "           Retornas 0 en cualquier otro caso\"\"\"\n",
    "        #Cálculo de utilidad para el caso general (k>1)\n",
    "        win = k_in_row(board, player, move, self.k)\n",
    "        return 0 if not win else +1 if player == 'X' else -1\n"
   ]
  },
  {
   "cell_type": "markdown",
   "metadata": {
    "colab_type": "text",
    "id": "liX_dzQ8FhMO"
   },
   "source": [
    "### Clase ConnectFour </b>\n",
    "\n",
    "Connect Four es una variante del juego TicTacToe, en el que solo puedes hacer un movimiento en la fila inferior, o en un casillero directamente encima de un casillero ocupado. Tradicionalmente jugado en un tablero de 7x6 y gana el que hace 4 en raya. Por velocidad de cómputo, se eligen los valores de h=4, v=4 y k=3."
   ]
  },
  {
   "cell_type": "code",
   "execution_count": null,
   "metadata": {
    "colab": {},
    "colab_type": "code",
    "id": "zpSKXFcIFhMP"
   },
   "outputs": [],
   "source": [
    "class ConnectFour(TicTacToe):\n",
    "\n",
    "    def __init__(self, h=6, v=7, k=4):    #(h=6, v=7, k=4)  # h=4, v=4, k=3\n",
    "        TicTacToe.__init__(self, h, v, k)\n",
    "        \n",
    "    def actions(self, state):\n",
    "        return [(x, y) for (x, y) in state.moves\n",
    "                if y == 1 or (x, y - 1) in state.board]"
   ]
  },
  {
   "cell_type": "markdown",
   "metadata": {
    "colab_type": "text",
    "id": "rQiFe4YwFhMU"
   },
   "source": [
    "### Algoritmo  <b>MIN-MAX</b>\n",
    "\n",
    "Este algoritmo escoge una movida para el jugador de turno en un juego dado (game). El algoritmo obtiene recursivamente los valores minimax de los estados sucesores buscando en profundidad en el arbol de juego los estados terminales. De estos estados toma su valor de utilidad para calcular la utilidad de los padres y asi sucesivamente hasta tener la utilidad de todos los sucesores del estado inicial para decidir la movida a ejecutar. \n",
    "La implementacion de esta busqueda es a traves de una recursion alternada de las funciones max_value y min_value (una llama a la otra) hasta alcanzar un estado terminal. Cuando la recursion termina todas las movidas tienen una utilidad y se escoje la movida de mayor valor.\n"
   ]
  },
  {
   "cell_type": "code",
   "execution_count": null,
   "metadata": {
    "colab": {},
    "colab_type": "code",
    "id": "T6zMLb-1FhMV"
   },
   "outputs": [],
   "source": [
    "argmax = max\n",
    "infinity = float('inf')\n",
    "\n",
    "def minimax_decision(state, game):\n",
    "\n",
    "    player = game.to_move(state)\n",
    "\n",
    "    def max_value(state):\n",
    "        if game.terminal_test(state):\n",
    "            return game.utility(state, player)\n",
    "        v = -infinity\n",
    "        for a in game.actions(state):\n",
    "            v = max(v, min_value(game.result(state, a)))\n",
    "        return v\n",
    "\n",
    "    def min_value(state):\n",
    "        if game.terminal_test(state):\n",
    "            return game.utility(state, player)\n",
    "        v = infinity\n",
    "        for a in game.actions(state):\n",
    "            v = min(v, max_value(game.result(state, a)))\n",
    "        return v\n",
    "\n",
    "    # Body of minimax_decision:\n",
    "    return argmax(game.actions(state),\n",
    "                  key=lambda a: min_value(game.result(state, a)))"
   ]
  },
  {
   "cell_type": "markdown",
   "metadata": {
    "colab_type": "text",
    "id": "7QNm0i9NFhMd"
   },
   "source": [
    "### Algoritmo  <b>ALPHA-BETA</b>\n",
    "\n",
    "Este algoritmo escoge una movida para el jugador de turno en el juego, evitando explorar las ramas que no son relevantes para tomar una decisión de movida en el estado actual. Alpha-Beta hace uso de las funciones max_value y min_value de MIN-MAX pero utilizando dos variables: alpha y betha. La variable apha mantiene la mejor opcion (la más alta utilidad) encontrada para MAX a lo largo del camino. La variable betha mantiene la mejor opcion (la más baja utilidad) encontrada para MIN. A medida que el algoritmo avanza se va actualizando alpha y betha y se poda un nodo cuando el valor del nodo es menor que el valor alpha (para MAX) o mayor que el valor betha (para MIN)."
   ]
  },
  {
   "cell_type": "code",
   "execution_count": null,
   "metadata": {
    "colab": {},
    "colab_type": "code",
    "id": "jA_dD4dGFhMe"
   },
   "outputs": [],
   "source": [
    "def alphabeta_search(state, game):\n",
    "  \n",
    "    player = game.to_move(state)\n",
    "\n",
    "    # Functions used by alphabeta\n",
    "    def max_value(state, alpha, beta):\n",
    "        if game.terminal_test(state):\n",
    "            return game.utility(state, player)\n",
    "        v = -infinity\n",
    "        for a in game.actions(state):\n",
    "            v = max(v, min_value(game.result(state, a), alpha, beta))\n",
    "            if v >= beta:\n",
    "                return v\n",
    "            alpha = max(alpha, v)\n",
    "        return v\n",
    "\n",
    "    def min_value(state, alpha, beta):\n",
    "        if game.terminal_test(state):\n",
    "            return game.utility(state, player)\n",
    "        v = infinity\n",
    "        for a in game.actions(state):\n",
    "            v = min(v, max_value(game.result(state, a), alpha, beta))\n",
    "            if v <= alpha:\n",
    "                return v\n",
    "            beta = min(beta, v)\n",
    "        return v\n",
    "\n",
    "    # Body of alphabeta_cutoff_search:\n",
    "    best_score = -infinity\n",
    "    beta = infinity\n",
    "    best_action = None\n",
    "    for a in game.actions(state):\n",
    "        v = min_value(game.result(state, a), best_score, beta)\n",
    "        if v > best_score:\n",
    "            best_score = v\n",
    "            best_action = a\n",
    "    return best_action\n"
   ]
  },
  {
   "cell_type": "markdown",
   "metadata": {
    "colab_type": "text",
    "id": "j_V_dfM5FhMn"
   },
   "source": [
    "## Monte-Carlo Tree Search\n"
   ]
  },
  {
   "cell_type": "markdown",
   "metadata": {
    "colab_type": "text",
    "id": "ZCnV-F4oFhMo"
   },
   "source": [
    "#### Imlementa el nodo del arbol Monte carlo "
   ]
  },
  {
   "cell_type": "code",
   "execution_count": null,
   "metadata": {
    "colab": {},
    "colab_type": "code",
    "id": "zw9ysKboFhMo"
   },
   "outputs": [],
   "source": [
    "class MCT_Node:\n",
    "    \"\"\"Node in the Monte Carlo search tree, keeps track of the children states.\"\"\"\n",
    "\n",
    "    def __init__(self, parent=None, state=None, U=0, N=0):\n",
    "        self.__dict__.update(parent=parent, state=state, U=U, N=N)\n",
    "        self.children = {}\n",
    "        self.actions = None"
   ]
  },
  {
   "cell_type": "markdown",
   "metadata": {
    "colab_type": "text",
    "id": "cwHMizZvFhMt"
   },
   "source": [
    "#### Imlementa la funcion UCB1 para la fase de selección"
   ]
  },
  {
   "cell_type": "code",
   "execution_count": null,
   "metadata": {
    "colab": {},
    "colab_type": "code",
    "id": "PiOXFbc7FhMv"
   },
   "outputs": [],
   "source": [
    "import numpy as np\n",
    "\n",
    "def ucb(n, C=1.4):\n",
    "    if n.N == 0:\n",
    "        return np.inf    \n",
    "    else:\n",
    "        return (n.U / n.N) + C * np.sqrt(np.log(n.parent.N) / n.N)"
   ]
  },
  {
   "cell_type": "markdown",
   "metadata": {
    "colab_type": "text",
    "id": "0Am9bCUNFhM1"
   },
   "source": [
    "#### Algoritmo Monte Carlo Tree Search"
   ]
  },
  {
   "cell_type": "code",
   "execution_count": null,
   "metadata": {
    "colab": {},
    "colab_type": "code",
    "id": "fxtvQo-yFhM2"
   },
   "outputs": [],
   "source": [
    "import random\n",
    "def monte_carlo_tree_search(state, game, N=1000):\n",
    "    def select(n):\n",
    "        \"\"\"select a leaf node in the tree\"\"\"\n",
    "        if n.children:\n",
    "            return select(max(n.children.keys(), key=ucb))\n",
    "        else:\n",
    "            return n\n",
    "\n",
    "    def expand(n):\n",
    "        \"\"\"expand the leaf node by adding all its children states\"\"\"\n",
    "        if not n.children and not game.terminal_test(n.state):\n",
    "            n.children = {MCT_Node(state=game.result(n.state, action), parent=n): action\n",
    "                          for action in game.actions(n.state)}\n",
    "        return select(n)\n",
    "\n",
    "    def simulate(game, state):\n",
    "        \"\"\"simulate the utility of current state by random picking a step\"\"\"\n",
    "        player = game.to_move(state)\n",
    "        while not game.terminal_test(state):\n",
    "            action = random.choice(list(game.actions(state)))\n",
    "            state = game.result(state, action)\n",
    "        v = game.utility(state, player)\n",
    "        return -v\n",
    "\n",
    "    def backprop(n, utility):\n",
    "        \"\"\"passing the utility back to all parent nodes\"\"\"\n",
    "        if utility > 0:\n",
    "            n.U += utility\n",
    "        # if utility == 0:\n",
    "        #     n.U += 0.5\n",
    "        n.N += 1\n",
    "        if n.parent:\n",
    "            backprop(n.parent, -utility)\n",
    "\n",
    "    root = MCT_Node(state=state)\n",
    "\n",
    "    for _ in range(N):\n",
    "        leaf = select(root)\n",
    "        child = expand(leaf)\n",
    "        result = simulate(game, child.state)\n",
    "        backprop(child, result)\n",
    "\n",
    "    max_state = max(root.children, key=lambda p: p.N)\n",
    "\n",
    "    return root.children.get(max_state)"
   ]
  },
  {
   "cell_type": "markdown",
   "metadata": {
    "colab_type": "text",
    "id": "oXqgmjgDFhM6"
   },
   "source": [
    "##### Jugadores </b>\n",
    "\n",
    "A seguir se implementan 5 jugadores. Ellos reciben el estado del juego y devuelven una accion:\n",
    "- <b>minimax_player</b>:   jugador con inteligencia MIN-MAX\n",
    "- <b>alphabeta_player</b>: jugador con inteligencia ALPHA-BETA \n",
    "- <b>random_player</b>:    jugador que hace movidas aleatorias (es facil ganarle :)\n",
    "- <b>human_player</b>:     solicita la movida a un humano\n",
    "- <b>mcts_player</b>:      jugador con inteligencia MCTS\n"
   ]
  },
  {
   "cell_type": "code",
   "execution_count": null,
   "metadata": {
    "colab": {},
    "colab_type": "code",
    "id": "A00iWB7zFhM8"
   },
   "outputs": [],
   "source": [
    "def minimax_player(game, state):\n",
    "    return minimax_decision(state, game)\n",
    "\n",
    "def alphabeta_player(game, state):\n",
    "    return alphabeta_search(state, game)\n",
    "\n",
    "def mcts_player(game, state):\n",
    "    return monte_carlo_tree_search(state, game)\n",
    "\n",
    "def random_player(game, state):\n",
    "    return random.choice(game.actions(state))\n",
    "\n",
    "def human_player(game, state):\n",
    "    print(\"Estado actual:\")\n",
    "    game.display(state)\n",
    "    print(\"Movidas disponibles: {}\".format(game.actions(state)))\n",
    "    print(\"\")\n",
    "    move_string = input('Cuál es tu movida? ')\n",
    "    try:\n",
    "        move = eval(move_string)\n",
    "    except NameError:\n",
    "        move = move_string\n",
    "    return move"
   ]
  },
  {
   "cell_type": "markdown",
   "metadata": {
    "colab_type": "text",
    "id": "qmDYJ0BnFhNA"
   },
   "source": [
    "## Jugando"
   ]
  },
  {
   "cell_type": "markdown",
   "metadata": {
    "colab_type": "text",
    "id": "-jaRVZZ1FhND"
   },
   "source": [
    "Instancia juego ConnectFour (h=4, v=5, k=3) y llama al controlador de juego. 1er player=alphabeta, 2do player=random_player"
   ]
  },
  {
   "cell_type": "code",
   "execution_count": null,
   "metadata": {
    "colab": {},
    "colab_type": "code",
    "id": "Jbvu-cc_FhND"
   },
   "outputs": [],
   "source": [
    "cFour = ConnectFour(h=4, v=5, k=3)\n",
    "print(cFour.play_game(alphabeta_player, random_player, verbose=True))"
   ]
  },
  {
   "cell_type": "markdown",
   "metadata": {
    "colab_type": "text",
    "id": "YDBhQX8nFhNY"
   },
   "source": [
    "Instancia juego ConnectFour (h=4, v=5, k=3) y llama al controlador de juego. 1er player=mcst, 2do player=random_player"
   ]
  },
  {
   "cell_type": "code",
   "execution_count": null,
   "metadata": {
    "colab": {},
    "colab_type": "code",
    "id": "Y_kYEV_IFhNZ"
   },
   "outputs": [],
   "source": [
    "cFour = ConnectFour(h=4, v=5, k=3)\n",
    "print(cFour.play_game(mcts_player, random_player, verbose=True))"
   ]
  },
  {
   "cell_type": "markdown",
   "metadata": {
    "colab_type": "text",
    "id": "JFasqge9FhNb"
   },
   "source": [
    "Instancia juego ConnectFour (h=4, v=5, k=3) y llama al controlador de juego. 1er player=mcst, 2do player=alphabeta"
   ]
  },
  {
   "cell_type": "code",
   "execution_count": null,
   "metadata": {
    "colab": {},
    "colab_type": "code",
    "id": "9ir5URwpjeBW"
   },
   "outputs": [],
   "source": [
    "cFour = ConnectFour(h=4, v=5, k=3)\n",
    "cFour.play_game(mcts_player, alphabeta_player, verbose=False)"
   ]
  },
  {
   "cell_type": "code",
   "execution_count": null,
   "metadata": {
    "colab": {},
    "colab_type": "code",
    "id": "3PyqFwz9FhNd"
   },
   "outputs": [],
   "source": [
    "cFour = ConnectFour(h=4, v=5, k=3)\n",
    "print(cFour.play_game(mcts_player, alphabeta_player, verbose=True))"
   ]
  },
  {
   "cell_type": "markdown",
   "metadata": {
    "colab_type": "text",
    "id": "yI1DtyOkFhNi"
   },
   "source": [
    "Instancia juego ConnectFour (h=4, v=5, k=3) y llama al controlador de juego. 1er player=alphabeta, 2do player=human"
   ]
  },
  {
   "cell_type": "code",
   "execution_count": null,
   "metadata": {
    "colab": {},
    "colab_type": "code",
    "id": "uV_UnGpsFhNl"
   },
   "outputs": [],
   "source": [
    "cFour = ConnectFour(h=4, v=5, k=3)\n",
    "print(cFour.play_game(alphabeta_player, human_player))"
   ]
  },
  {
   "cell_type": "markdown",
   "metadata": {
    "colab_type": "text",
    "id": "cr2cVKQgFhNo"
   },
   "source": [
    "Instancia juego ConnectFour (h=4, v=5, k=3) y llama al controlador de juego. 1er player=mcst, 2do player=human"
   ]
  },
  {
   "cell_type": "code",
   "execution_count": null,
   "metadata": {
    "colab": {},
    "colab_type": "code",
    "id": "V9thQumJFhNo"
   },
   "outputs": [],
   "source": [
    "cFour = ConnectFour(h=4, v=5, k=3)\n",
    "print(cFour.play_game(mcts_player, human_player ))"
   ]
  },
  {
   "cell_type": "markdown",
   "metadata": {
    "colab_type": "text",
    "collapsed": true,
    "id": "KNQIEDqzFhNu"
   },
   "source": [
    "# Preguntas:\n",
    "Para las preguntas 1 y 2, ingrese al siguiente enlace y use la figura para responderlas: https://drive.google.com/open?id=1_kcsETE6vsnyH2wHxb1LMoAhKsFSvKpb\n",
    "\n",
    "1) De acuerdo al arbol de juego mostrado, cual seria la utilidad MiniMax del nodo raiz y cual seria la movida que haria un jugador Minimax en ese nodo (derecha o izquierda?) (3 puntos)\n"
   ]
  },
  {
   "cell_type": "markdown",
   "metadata": {
    "colab_type": "text",
    "id": "qBjBi78JaCAW"
   },
   "source": [
    "2) Si el algoritmo Min Max lee de izquierda a derecha ¿cuantos nodos exploraría si utilizaramos la variante Alfa-Beta? (3 puntos)\n"
   ]
  },
  {
   "cell_type": "markdown",
   "metadata": {
    "colab_type": "text",
    "id": "nJIy6LgEPwVq"
   },
   "source": [
    "3) Ejecute el juego con alfabeta como primer jugador (Max) y MCST como segundo jugador (Min)  . Explique porqué MCST  nunca puede ganarle a Alfabeta? (3 puntos)"
   ]
  },
  {
   "cell_type": "markdown",
   "metadata": {},
   "source": [
    "4) Haga que juegue MCTS (primer jugador) contra alphabeta. Ejecute 10 veces el juego para numero de simulaciones N = 10  y para N = 100.  Indique cuantas veces gana el algoritmo MCTS en cada caso.  ¿Que es lo que ocurre? dé una explicación. (4 puntos)"
   ]
  },
  {
   "cell_type": "markdown",
   "metadata": {
    "colab_type": "text",
    "id": "TWM0QGuvcjhN"
   },
   "source": [
    "5) Modifique el código para que el algoritmo MCTS no agregue todos los estados hijos al arbol en la fase de expansion (metodo expand); sino que agregue solamente k nodos seleccionados aleatoriamente. Haga que juegue MCTS (primer jugador) contra alphabeta. Ejecute 10 veces el juego para k = 1, k=2 y k=3. Indique cuantas veces gana el algoritmo MCTS en cada caso. ¿Que es lo que ocurre? dé una explicación.  (4 puntos)\n",
    "\n",
    "Tip: \n"
   ]
  },
  {
   "cell_type": "code",
   "execution_count": null,
   "metadata": {},
   "outputs": [],
   "source": [
    "k = 3 # Maximo numero de nodos a colocar en el arbol en la expansion\n",
    "legal_actions = game.actions(n.state)\n",
    "n.children = {MCT_Node(state=game.result(n.state, action), parent=n): action\n",
    "                    for action in random.sample(legal_actions, k = min(k,len(legal_actions)))}"
   ]
  },
  {
   "cell_type": "markdown",
   "metadata": {
    "colab_type": "text",
    "id": "vcOewU1rcjlM"
   },
   "source": [
    "6) Modifique el código para que las fichas caigan verticalmente y no horizontalmente. (3 puntos)"
   ]
  }
 ],
 "metadata": {
  "colab": {
   "collapsed_sections": [],
   "name": "Original_Laboratorio3 (ConnectFour).ipynb",
   "provenance": []
  },
  "kernelspec": {
   "display_name": "Python 3",
   "language": "python",
   "name": "python3"
  },
  "language_info": {
   "codemirror_mode": {
    "name": "ipython",
    "version": 3
   },
   "file_extension": ".py",
   "mimetype": "text/x-python",
   "name": "python",
   "nbconvert_exporter": "python",
   "pygments_lexer": "ipython3",
   "version": "3.7.4"
  }
 },
 "nbformat": 4,
 "nbformat_minor": 1
}
