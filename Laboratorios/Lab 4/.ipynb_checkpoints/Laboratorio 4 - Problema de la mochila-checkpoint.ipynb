{
 "cells": [
  {
   "cell_type": "markdown",
   "metadata": {
    "colab_type": "text",
    "id": "dnJCLCtuk-IR"
   },
   "source": [
    "# INTELIGENCIA ARTIFICIAL (INF 371)¶\n",
    "\n",
    "## Laboratorio 4: Algoritmo Genético para solucionar el problema de la mochila\n",
    "\n",
    "El problema de la mochila o \"knapsack problem\" es un tipo de problema de optimización combinatoria. Se puede definir como: dado un conjunto de items, cada uno con un peso y un valor, determinar una colección de articulos cuyo valor total sea lo más grande posible, pero el peso total no sobrepase un límite dado. Este problema hace recordar al problema que enfrenta una persona que quiere llenar una mochila con los elementos más valiosos pero está limitado por la capacidad de la mochila.\n",
    "\n",
    "En este notebook se presenta una implementación basada en algoritmos genéticos para resolver el problema de la mochila y ver como los operadores genéticos influyen en el desempeño del algoritmo. \n",
    "\n",
    "La clase individuo tiene implementado los siguientes operadores: cruzamiento de un punto (crossover_onepoint), cruzamiento uniforme (crossover_uniform), operador de mutacion de una posicion (mutation_flip). \n",
    "\n",
    "Al final de este notebook se le invita a desarrollar un desafio y responder las preguntas.\n",
    "\n",
    "<p><img src=\"https://upload.wikimedia.org/wikipedia/commons/f/fd/Knapsack.svg\">"
   ]
  },
  {
   "cell_type": "markdown",
   "metadata": {},
   "source": [
    "### Define el objeto Item en el problema de la mochila\n",
    "Un objeto de clase Item almacena erl valor del item y el peso del item "
   ]
  },
  {
   "cell_type": "code",
   "execution_count": null,
   "metadata": {},
   "outputs": [],
   "source": [
    "class Item(object):\n",
    "    def __init__(self, value, weight):\n",
    "        self.value  = value  # Valor del item. La suma de los valores de los items es lo que se quiere maximizar\n",
    "        self.weight = weight # Peso del item. Se impone una restriccion en el peso maximo de una mochila"
   ]
  },
  {
   "cell_type": "markdown",
   "metadata": {
    "colab_type": "text",
    "id": "MnVcuNVdk-IS"
   },
   "source": [
    "### Define la estructura de un individuo en el AG con sus operadores genéticos "
   ]
  },
  {
   "cell_type": "code",
   "execution_count": null,
   "metadata": {
    "colab": {},
    "colab_type": "code",
    "id": "JjbNgyCdk-IU"
   },
   "outputs": [],
   "source": [
    "import sys\n",
    "import time\n",
    "import numpy as np\n",
    "import random\n",
    "from copy import deepcopy\n",
    "import matplotlib.pyplot as plt\n",
    "\n",
    "class Individual:\n",
    "    \"\"\" Implementa el individuo del AG. Un individuo tiene un cromosoma que es una lista de NUM_ITEMS elementos (genes),\n",
    "       cada gen i puede asumir dos posibles alelos: 0 o 1 (no incluir/incluir en la mochila el item i del pool) \"\"\"\n",
    "\n",
    "    def __init__(self, chromosome):  # el constructor recibe un cromosoma\n",
    "        self.chromosome = chromosome[:]  \n",
    "        self.fitness = -1  # -1 indica que el individuo no ha sido evaluado\n",
    "\n",
    "    def crossover_onepoint(self, other):\n",
    "        \"Retorna dos nuevos individuos del cruzamiento de un punto entre individuos self y other \"\n",
    "        c = random.randrange(len(self.chromosome))\n",
    "        ind1 = Individual(self.chromosome[:c] + other.chromosome[c:])\n",
    "        ind2 = Individual(other.chromosome[:c] + self.chromosome[c:])\n",
    "        return [ind1, ind2]   \n",
    "    \n",
    "    \n",
    "    def crossover_uniform(self, other):\n",
    "        chromosome1 = []\n",
    "        chromosome2 = []\n",
    "        \"Retorna dos nuevos individuos del cruzamiento uniforme entre self y other \"\n",
    "        for i in range(len(self.chromosome)):\n",
    "            if random.uniform(0, 1) < 0.5:\n",
    "                chromosome1.append(self.chromosome[i])\n",
    "                chromosome2.append(other.chromosome[i])\n",
    "            else:\n",
    "                chromosome1.append(other.chromosome[i])\n",
    "                chromosome2.append(self.chromosome[i])\n",
    "        ind1 = Individual(chromosome1)\n",
    "        ind2 = Individual(chromosome2)\n",
    "        return [ind1, ind2] \n",
    "\n",
    "    def mutation_flip(self):\n",
    "        \"Cambia aleatoriamente el alelo de un gen.\"\n",
    "        new_chromosome = deepcopy(self.chromosome)\n",
    "        mutGene = random.randrange(0,len(new_chromosome))   # escoge un gen para mutar\n",
    "        if new_chromosome[mutGene] == 0:\n",
    "            new_chromosome[mutGene] = 1\n",
    "        else:\n",
    "            new_chromosome[mutGene] = 0\n",
    "        return Individual(new_chromosome)\n",
    "\n",
    "    def mutation_inversion(self):\n",
    "        \"\"\"\n",
    "        Invierte el orden de todos los genes comprendidos entre 2 puntos \n",
    "        seleccionados al azar en el cromosoma\n",
    "        \"\"\"\n",
    "        new_chromosome = deepcopy(self.chromosome)\n",
    "        \n",
    "        ## ESCRIBIR AQUI SU CODIGO\n",
    "        \n",
    "        return Individual(new_chromosome)"
   ]
  },
  {
   "cell_type": "markdown",
   "metadata": {
    "colab_type": "text",
    "id": "fJsv0S_8k-IZ"
   },
   "source": [
    "### Función para obtener el fitness de un cromosoma"
   ]
  },
  {
   "cell_type": "code",
   "execution_count": null,
   "metadata": {
    "colab": {},
    "colab_type": "code",
    "id": "x-OUH07tk-Ic"
   },
   "outputs": [],
   "source": [
    "def get_fitness(chromosome, items, max_weight):\n",
    "    \"\"\"Retorna el fitness del cromosoma pasado. Fitness es el valor total de los items incluidos en el cromosoma\n",
    "       Si el peso total es mayor que max_weight -> el fitness es 0\"\"\"\n",
    "    fitness = 0 # initialize fitness to 0\n",
    "    sum_weight = 0\n",
    "    \n",
    "    for i in range(len(items)):\n",
    "        if chromosome[i] == 1:  # si item i esta incluido en cromosoma, acumula su valor y peso \n",
    "            fitness += items[i].value\n",
    "            sum_weight += items[i].weight\n",
    "            if  sum_weight > max_weight: # si se paso del peso maximo retorna 1 como fitness\n",
    "                return 1\n",
    "    return fitness"
   ]
  },
  {
   "cell_type": "markdown",
   "metadata": {
    "colab_type": "text",
    "id": "Xw6sR4v7k-Ii"
   },
   "source": [
    "### Función para evaluar una población de individuos "
   ]
  },
  {
   "cell_type": "code",
   "execution_count": null,
   "metadata": {
    "colab": {},
    "colab_type": "code",
    "id": "Pqtbl-Zlk-Ij"
   },
   "outputs": [],
   "source": [
    "def evaluate_population(population, items, max_weight):\n",
    "    \"\"\" Evalua una poblacion de individuos con la funcion get_fitness \"\"\"\n",
    "    pop_size = len(population)\n",
    "    for i in range(pop_size):\n",
    "        if population[i].fitness == -1:    # evalua solo si el individuo no esta evaluado\n",
    "            population[i].fitness = get_fitness(population[i].chromosome, items, max_weight)"
   ]
  },
  {
   "cell_type": "markdown",
   "metadata": {
    "colab_type": "text",
    "id": "PuScmwjyk-In"
   },
   "source": [
    "### Función para inicializar aleatoriamente una población de individuos"
   ]
  },
  {
   "cell_type": "code",
   "execution_count": null,
   "metadata": {
    "colab": {},
    "colab_type": "code",
    "id": "swoZMGwdk-Io"
   },
   "outputs": [],
   "source": [
    "def init_population(pop_size, chromosome_size, zeroes=False):\n",
    "    \"\"\"Inicializa una poblacion de pop_size individuos, cada cromosoma de individuo de tamaño chromosome_size.\n",
    "       Si zeroes==False La inicializacion es aleatoria (por defecto), si zeroes=True los cromosomas son vectores de ceros\"\"\"\n",
    "    population = []\n",
    "    for i in range(pop_size):\n",
    "        if zeroes:\n",
    "            new_chromosome = [0 for j in range(chromosome_size)]  # vector de zeros de tamaño chromosome_size\n",
    "        else:\n",
    "            new_chromosome = [random.randint(0,1) for j in range(chromosome_size)]  #vector aleatorio de 0s y 1s de tamaño chromosome_size\n",
    "        \n",
    "        population.append( Individual(new_chromosome) )\n",
    "    return population"
   ]
  },
  {
   "cell_type": "markdown",
   "metadata": {
    "colab_type": "text",
    "id": "9IhMfqBDk-It"
   },
   "source": [
    "### Función que escoge una pareja de individuos para cruzamiento (método de ruleta)"
   ]
  },
  {
   "cell_type": "code",
   "execution_count": null,
   "metadata": {
    "colab": {},
    "colab_type": "code",
    "id": "KyRz3__4k-It"
   },
   "outputs": [],
   "source": [
    "def select_parents_roulette(population):\n",
    "    popsize = len(population)\n",
    "    \n",
    "    # Escoje el primer padre\n",
    "    sumfitness = sum([indiv.fitness for indiv in population])  # suma total del fitness de la poblacion\n",
    "    pickfitness = random.uniform(0, sumfitness)   # escoge un numero aleatorio entre 0 y sumfitness\n",
    "    cumfitness = 0     # fitness acumulado\n",
    "    for i in range(popsize):\n",
    "        cumfitness += population[i].fitness\n",
    "        if cumfitness > pickfitness: \n",
    "            iParent1 = i\n",
    "            break\n",
    "     \n",
    "    # Escoje el segundo padre, desconsiderando el primer padre\n",
    "    sumfitness = sumfitness - population[iParent1].fitness # retira el fitness del padre ya escogido\n",
    "    pickfitness = random.uniform(0, sumfitness)   # escoge un numero aleatorio entre 0 y sumfitness\n",
    "    cumfitness = 0     # fitness acumulado\n",
    "    for i in range(popsize):\n",
    "        if i == iParent1: continue   # si es el primer padre \n",
    "        cumfitness += population[i].fitness\n",
    "        if cumfitness > pickfitness: \n",
    "            iParent2 = i\n",
    "            break        \n",
    "    return (population[iParent1], population[iParent2])"
   ]
  },
  {
   "cell_type": "markdown",
   "metadata": {},
   "source": [
    "### Función que escoge una pareja de individuos para cruzamiento  (método de torneo)"
   ]
  },
  {
   "cell_type": "code",
   "execution_count": null,
   "metadata": {},
   "outputs": [],
   "source": [
    "def select_parents_tournament(population, tournament_size):\n",
    "    # Escoje el primer padre\n",
    "    list_indiv=[]\n",
    "    x1 = np.random.permutation(len(population) )\n",
    "    y1= x1[0:tournament_size]\n",
    "    for i in range(tournament_size):\n",
    "        list_indiv.append(population[y1[i]].fitness)\n",
    "    \n",
    "    iParent1=np.argmax(list_indiv)\n",
    "    \n",
    "    # Escoje el segundo padre, desconsiderando el primer padre   \n",
    "    x2 = np.delete(x1, iParent1)\n",
    "    x2 = np.random.permutation(x2)\n",
    "    list_indiv=[]\n",
    "    y2= x2[0:tournament_size]\n",
    "    for i in range(tournament_size):\n",
    "        list_indiv.append(population[y2[i]].fitness)\n",
    "    iParent2=np.argmax(list_indiv)\n",
    "    \n",
    "    return (population[x1[iParent1]],population[x2[iParent2]])"
   ]
  },
  {
   "cell_type": "markdown",
   "metadata": {
    "colab_type": "text",
    "id": "e8CZqrC4k-Ix"
   },
   "source": [
    "### Función de selección de la poblacion para la sgte generación por ranking\n",
    "Selecciona la población siguiente ranqueando los individuos de la poblacion actual (population) y la poblacion descendencia (offspring_population) y escogiendo los mejores numsurvivors  individuos "
   ]
  },
  {
   "cell_type": "code",
   "execution_count": null,
   "metadata": {
    "colab": {},
    "colab_type": "code",
    "id": "Ua4QyA9hk-Ix"
   },
   "outputs": [],
   "source": [
    "def select_survivors_ranking(population, offspring_population, numsurvivors):\n",
    "    next_population = []\n",
    "    population.extend(offspring_population) # une las dos poblaciones\n",
    "    isurvivors = sorted(range(len(population)), key=lambda i: population[i].fitness, reverse=True)[:numsurvivors]\n",
    "    for i in range(numsurvivors):\n",
    "        next_population.append(population[isurvivors[i]])\n",
    "    return next_population"
   ]
  },
  {
   "cell_type": "markdown",
   "metadata": {
    "colab_type": "text",
    "id": "e8CZqrC4k-Ix"
   },
   "source": [
    "### Función de selección de la población para la sgte generación por método steady-state\n",
    "La población siguiente es obtenida reemplazando los peores numind2replace de la poblacion actual (population) por los mejores numind2replace de la poblacion descendencia (offspring_population) "
   ]
  },
  {
   "cell_type": "code",
   "execution_count": null,
   "metadata": {},
   "outputs": [],
   "source": [
    "def select_survivors_steady(population, offspring_population, numind2replace):\n",
    "    next_population = []\n",
    "    \n",
    "    ## ESCRIBIR AQUI SU CODIGO\n",
    "    \n",
    "    return next_population"
   ]
  },
  {
   "cell_type": "markdown",
   "metadata": {
    "colab_type": "text",
    "id": "akvirSobk-I2"
   },
   "source": [
    "### Algoritmo Genético para encontrar soluciones al problema de la mochila\n",
    "Recibe una población inicial, número de generaciones (ngen), tasa de mutación (pmut), operador de cruzamiento (crossover) y operador de mutación (mutation)"
   ]
  },
  {
   "cell_type": "code",
   "execution_count": null,
   "metadata": {
    "colab": {},
    "colab_type": "code",
    "id": "s_rCJHyMk-I4"
   },
   "outputs": [],
   "source": [
    "def genetic_algorithm(population, items, max_weight, ngen=100, pmut=0.1, \n",
    "                      crossover=\"onepoint\", mutation=\"flip\", \n",
    "                      selection_parents_method=\"roulette\", \n",
    "                      selection_survivors_method=\"ranking\"):\n",
    "    \"\"\"Algoritmo Genetico para el problema de la mochila\n",
    "        items:      pool de items a escoger para la mochila. \n",
    "                    Debe ser una lista de objetos de clase Item\n",
    "        max_weight: maximo peso que puede soportar la mochila\n",
    "        ngen:       maximo numero de generaciones \n",
    "        pmut:       tasa de mutacion\n",
    "        crossover:  operador de cruzamiento\n",
    "        mutation:   operador de mutacion\n",
    "        selection_parents_method: método de selección de padres para cruzamiento\n",
    "        selection_survivors_method: método de selección de sobrevivientes \n",
    "    \"\"\"\n",
    "    \n",
    "    pop_size = len(population)\n",
    "    evaluate_population(population, items, max_weight)  # evalua la poblacion inicial\n",
    "    ibest = sorted(range(len(population)), key=lambda i: population[i].fitness, reverse=True)[:1]  # mejor individuo\n",
    "    bestfitness = [population[ibest[0]].fitness]  # fitness del mejor individuo\n",
    "    print(\"Poblacion inicial, best_fitness = {}\".format(population[ibest[0]].fitness))\n",
    "    \n",
    "    for g in range(ngen):   # Por cada generacion\n",
    "\n",
    "        ## Selecciona parejas de individuos (mating_pool) para cruzamiento con el metodo de la ruleta\n",
    "        mating_pool = []\n",
    "        for i in range(int(pop_size/2)):\n",
    "            if selection_parents_method == \"roulette\":\n",
    "                mating_pool.append(select_parents_roulette(population))\n",
    "            elif selection_parents_method == \"tournament\":\n",
    "                mating_pool.append(select_parents_tournament(population, 3))\n",
    "            else:\n",
    "                raise NotImplementedError\n",
    "        ## Crea la poblacion descendencia cruzando las parejas del mating pool \n",
    "        offspring_population = []\n",
    "        for i in range(len(mating_pool)): \n",
    "            if crossover == \"onepoint\":\n",
    "                offspring_population.extend( mating_pool[i][0].crossover_onepoint(mating_pool[i][1]) ) # cruzamiento 1 punto\n",
    "            elif crossover == \"uniform\":\n",
    "                offspring_population.extend( mating_pool[i][0].crossover_uniform(mating_pool[i][1]) ) # cruzamiento uniforme\n",
    "            else:\n",
    "                raise NotImplementedError\n",
    "\n",
    "        ## Aplica el operador de mutacion con probabilidad pmut en cada hijo generado\n",
    "        for i in range(len(offspring_population)):\n",
    "            if random.uniform(0, 1) < pmut: \n",
    "                if mutation == \"flip\":\n",
    "                    offspring_population[i] = offspring_population[i].mutation_flip() # cambia el alelo de un gen\n",
    "                elif mutation == \"inversion\":\n",
    "                    offspring_population[i] = offspring_population[i].mutation_inversion() # invierte todos los genes entre 2 puntos al azar\n",
    "                else:\n",
    "                    raise NotImplementedError   \n",
    "        \n",
    "        ## Evalua la poblacion descendencia creada\n",
    "        evaluate_population(offspring_population, items, max_weight)   # evalua la poblacion descendencia\n",
    "        \n",
    "        ## Selecciona individuos para la sgte. generación \n",
    "        if selection_survivors_method == \"ranking\":\n",
    "            population = select_survivors_ranking(population, offspring_population, pop_size) #metodo de ranking\n",
    "        elif selection_survivors_method == \"steady\":\n",
    "            population = select_survivors_steady(population, offspring_population, int(pop_size/2)) #metodo steady-state\n",
    "        else:\n",
    "            raise NotImplementedError\n",
    "            \n",
    "        ## Almacena la historia del fitness del mejor individuo\n",
    "        ibest = sorted(range(len(population)), key=lambda i: population[i].fitness, reverse=True)[:1]\n",
    "        bestfitness.append(population[ibest[0]].fitness)\n",
    "        \n",
    "        if (g % 10 == 0):  # muestra resultados cada 10 generaciones\n",
    "            print(\"generacion {}, (Mejor fitness = {})\".format(g, population[ibest[0]].fitness))\n",
    "        \n",
    "    print(\"Mejor individuo en la ultima generacion = {} (fitness = {})\".format(population[ibest[0]].chromosome, population[ibest[0]].fitness))\n",
    "    return population[ibest[0]], bestfitness  # devuelve el mejor individuo y la lista de mejores fitness x gen"
   ]
  },
  {
   "cell_type": "markdown",
   "metadata": {
    "colab_type": "text",
    "id": "UBJge-E7k-I8"
   },
   "source": [
    "## Probando el Algoritmo genético"
   ]
  },
  {
   "cell_type": "markdown",
   "metadata": {},
   "source": [
    "<b>Define el pool de items disponibles y capacidad de la mochila</b>"
   ]
  },
  {
   "cell_type": "code",
   "execution_count": null,
   "metadata": {},
   "outputs": [],
   "source": [
    "NUM_ITEMS = 60        # numero de items\n",
    "MAX_ITEM_WEIGHT = 60  # maximo peso posible de cada  item\n",
    "MAX_ITEM_VALUE = 60   # maximo valor posible de cada  item\n",
    "#pool de items generado aleatoriamente\n",
    "ItemPool = [ Item(random.randint(0,MAX_ITEM_VALUE), random.randint(0,MAX_ITEM_WEIGHT)) for x in range (0,NUM_ITEMS)]\n",
    "MAX_WEIGHT = 10*len(ItemPool)    # maximo peso que puede soportar la mochila"
   ]
  },
  {
   "cell_type": "markdown",
   "metadata": {},
   "source": [
    "<b> Ejecuta el algoritmo genético </b>"
   ]
  },
  {
   "cell_type": "code",
   "execution_count": null,
   "metadata": {
    "colab": {
     "base_uri": "https://localhost:8080/",
     "height": 813
    },
    "colab_type": "code",
    "executionInfo": {
     "elapsed": 1280,
     "status": "ok",
     "timestamp": 1556600868083,
     "user": {
      "displayName": "FRANCO PARIASCA TREVEJO",
      "photoUrl": "",
      "userId": "00191544209069005587"
     },
     "user_tz": 300
    },
    "id": "ITMAb6-Yk-I9",
    "outputId": "81fc29f6-0244-409a-acd1-594b32bd09bc",
    "scrolled": true
   },
   "outputs": [],
   "source": [
    "## Hiperparametros del algoritmo genetico\n",
    "POP_SIZE = 50       # numero de individuos\n",
    "GENERATIONS = 300   # numero de generaciones\n",
    "PMUT = 0.1         # tasa de mutacion\n",
    "\n",
    "## Inicializa una poblacion inicial de forma aleatoria\n",
    "population = init_population(POP_SIZE, NUM_ITEMS)\n",
    "\n",
    "# Evolue la poblacion con el algoritmo genetico (cruzamiento 'onepoint', )\n",
    "best_ind, bestfitness = genetic_algorithm(population, ItemPool, MAX_WEIGHT, GENERATIONS, PMUT, \n",
    "                                          crossover=\"uniform\", mutation=\"flip\", \n",
    "                                          selection_parents_method=\"roulette\",\n",
    "                                          selection_survivors_method=\"ranking\")\n",
    "\n",
    "# muestra la evolucion del mejor fitness\n",
    "plt.plot(bestfitness)\n",
    "plt.show()"
   ]
  },
  {
   "cell_type": "markdown",
   "metadata": {
    "colab_type": "text",
    "id": "OlMBv47zk-JA"
   },
   "source": [
    "# Preguntas:"
   ]
  },
  {
   "cell_type": "markdown",
   "metadata": {},
   "source": [
    "<b>1) Compare el desempeño de los operadores de cruzamiento (ruleta vs torneo)</b> (5 puntos)\n",
    "\n",
    "<b>Se debe colocar la tasa de mutación = 0</b> (a fin de centrarnos solo en el efecto de cruzamiento) y ejecutar 10 ejecuciones del Algoritmo genético con 50 individuos, 300 generaciones para cada una de las siguientes configuraciones:\n",
    "\n",
    "- Operador de Cruzamiento onepoint y selección por el metodo de la ruleta\n",
    "- Operador de Cruzamiento onepoint y selección por el metodo torneo (tamaño del torneo = 3)\n",
    "- Operador de Cruzamiento uniform y selección por el metodo de la ruleta\n",
    "- Operador de Cruzamiento uniform y selección por el metodo torneo (tamaño del torneo = 3)\n",
    "\n",
    "Registre el promedio del fitness máximo obtenido con cada configuración (promedio de 10 valores), asi como el promedio de la generación donde converge el algoritmo (la primera generacion donde se obtiene el fitness máximo). Indique con cual o cuales configuraciones se obtiene mayor fitness y mayor rapidez de convergencia y explique por qué?"
   ]
  },
  {
   "cell_type": "markdown",
   "metadata": {},
   "source": [
    "<b>2) Implemente el método <i>mutation_inversion</i> en la clase Individual</b> (5 puntos)"
   ]
  },
  {
   "cell_type": "markdown",
   "metadata": {},
   "source": [
    "<b>3) Determine la influencia de la mutación </b> (5 puntos)\n",
    "\n",
    "Con el mejor operador de cruzamiento y seleccion identificado en la pregunta 1, ejecute el Algoritmo Genético con 50 individuos, 300 generaciones y las siguientes configuraciones: \n",
    "\n",
    "- Operador de Mutación flip y tasa de mutación 5%\n",
    "- Operador de Mutación flip y tasa de mutación 50%\n",
    "- Operador de Mutación flip y tasa de mutación 100%\n",
    "- Operador de Mutación inversion y tasa de mutación 5%\n",
    "- Operador de Mutación inversion y tasa de mutación 50%\n",
    "- Operador de Mutación inversion y tasa de mutación 100%\n",
    "\n",
    "Registre el promedio del fitness máximo obtenido con cada configuración (promedio de 10 valores), asi como el promedio de la generación donde converge el algoritmo (la primera generacion donde se obtiene el fitness máximo). Indique como influye el operador de mutación y la tasa de mutación en los resultados e intente dar una explicación de lo que está pasando. "
   ]
  },
  {
   "cell_type": "markdown",
   "metadata": {},
   "source": [
    "<b>4) Implemente el método de selección de sobrevivientes por el metodo steady-state  (función <i>select_survivors_steady</i>). Luego, con el mejor operador de cruzamiento y seleccion identificado en la pregunta 1, ejecute 10 veces el algoritmo con 50 individuos, 300 generaciones, mutación flip y tasa de mutación de 50%</b>. \n",
    "\n",
    "Registre el promedio del fitness máximo obtenido con esta configuración, asi como el promedio de la generación donde converge el algoritmo. Compare los resultados con los obtenidos en la pregunta 3 para el mismo operador y tasa de mutacion. Dé una exlicación de lo obtenido.  (5 puntos)"
   ]
  },
  {
   "cell_type": "code",
   "execution_count": null,
   "metadata": {},
   "outputs": [],
   "source": []
  }
 ],
 "metadata": {
  "colab": {
   "collapsed_sections": [],
   "name": "Practica2-20135214.ipynb",
   "provenance": [],
   "version": "0.3.2"
  },
  "kernelspec": {
   "display_name": "Python 3",
   "language": "python",
   "name": "python3"
  },
  "language_info": {
   "codemirror_mode": {
    "name": "ipython",
    "version": 3
   },
   "file_extension": ".py",
   "mimetype": "text/x-python",
   "name": "python",
   "nbconvert_exporter": "python",
   "pygments_lexer": "ipython3",
   "version": "3.7.4"
  }
 },
 "nbformat": 4,
 "nbformat_minor": 1
}
