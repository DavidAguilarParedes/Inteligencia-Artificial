{
 "cells": [
  {
   "cell_type": "code",
   "execution_count": 12,
   "metadata": {},
   "outputs": [],
   "source": [
    "import sys\n",
    "import time\n",
    "import numpy as np\n",
    "import random\n",
    "from copy import deepcopy\n",
    "import pandas as pd\n",
    "import matplotlib.pyplot as plt\n",
    "import heapq"
   ]
  },
  {
   "cell_type": "code",
   "execution_count": 13,
   "metadata": {},
   "outputs": [],
   "source": [
    " \"\"\" Clase que implementa el individuo y sus operadores. El cromosoma de un individuo es una lista de caracteres,\n",
    "       cada elemento de la lista es un gen cuyos alelos (caracteres) posibles se indican en allele_pool\"\"\"\n",
    "\n",
    "class Individual:   \n",
    "    \n",
    "    def __init__(self, chromosome, allele_pool):  # el constructor recibe el cromosoma  y el pool de alelos posibles\n",
    "        self.chromosome = chromosome[:]\n",
    "        self.allele_pool = allele_pool\n",
    "        self.fitness = -1  # -1 indica que el individuo no ha sido evaluado\n",
    "        \n",
    "    def crossover_onepoint(self, other):\n",
    "        \"Retorna dos nuevos individuos del cruzamiento de un punto entre individuos self y other \"\n",
    "        c = random.randrange(len(self.chromosome))\n",
    "        ind1 = Individual(self.chromosome[:c] + other.chromosome[c:], allele_pool)\n",
    "        ind2 = Individual(other.chromosome[:c] + self.chromosome[c:], allele_pool)\n",
    "        return [ind1, ind2]   \n",
    "    \n",
    "    \n",
    "    def crossover_uniform(self, other):\n",
    "        chromosome1 = []\n",
    "        chromosome2 = []\n",
    "        \"Retorna dos nuevos individuos del cruzamiento uniforme entre self y other \"\n",
    "        for i in range(len(self.chromosome)):\n",
    "            if random.uniform(0, 1) < 0.5:\n",
    "                chromosome1.append(self.chromosome[i])\n",
    "                chromosome2.append(other.chromosome[i])\n",
    "            else:\n",
    "                chromosome1.append(other.chromosome[i])\n",
    "                chromosome2.append(self.chromosome[i])\n",
    "        ind1 = Individual(chromosome1, allele_pool)\n",
    "        ind2 = Individual(chromosome2, allele_pool)\n",
    "        return [ind1, ind2] \n",
    "\n",
    "    def mutate_position(self):\n",
    "        \"Cambia aleatoriamente el alelo de un gen.\"\n",
    "        mutated_chromosome = deepcopy(self.chromosome)\n",
    "        mutGene = random.randrange(0,len(mutated_chromosome)) \n",
    "        newAllele = allele_pool[random.randrange(0,len(allele_pool))]\n",
    "        mutated_chromosome[mutGene] = newAllele\n",
    "        return Individual(mutated_chromosome, allele_pool)\n",
    "        \n",
    "    def mutate_swap(self):\n",
    "        \"Escoge dos genes e intercambia sus alelos\"\n",
    "        mutated_chromosome = deepcopy(self.chromosome)\n",
    "        mutGen1 = random.randrange(0,len(mutated_chromosome))\n",
    "        mutGen2 = random.randrange(0,len(mutated_chromosome))\n",
    "        temp = mutated_chromosome[mutGen1]\n",
    "        mutated_chromosome[mutGen1] = mutated_chromosome[mutGen2]\n",
    "        mutated_chromosome[mutGen2] = temp\n",
    "        return Individual(mutated_chromosome, allele_pool)"
   ]
  },
  {
   "cell_type": "markdown",
   "metadata": {},
   "source": [
    "## Poblacion tipo string"
   ]
  },
  {
   "cell_type": "code",
   "execution_count": 14,
   "metadata": {},
   "outputs": [],
   "source": [
    "def init_population(pop_number, chromosome_size, allele_pool):\n",
    "    \n",
    "    num_alleles = len(allele_pool)\n",
    "    population = []\n",
    "    for i in range(pop_number):\n",
    "        new_chromosome = [allele_pool[random.randrange(0, num_alleles)] for j in range(chromosome_size)]\n",
    "        population.append( Individual(new_chromosome, allele_pool) )\n",
    "    return population"
   ]
  },
  {
   "cell_type": "code",
   "execution_count": 15,
   "metadata": {},
   "outputs": [],
   "source": [
    "def display(population):\n",
    "    listaAG=[]\n",
    "    for i in range(len(population)):\n",
    "        listaAG.append([''.join(population[i].chromosome),population[i].fitness])\n",
    "\n",
    "    data=pd.DataFrame(listaAG)\n",
    "    data.columns = ['Poblacion','fitness']\n",
    "    return data"
   ]
  },
  {
   "cell_type": "code",
   "execution_count": 16,
   "metadata": {},
   "outputs": [],
   "source": [
    "def display_m(population):\n",
    "    listaAG=[]\n",
    "    for i in range(len(population)):\n",
    "        listaAG.append([''.join(population[i][0].chromosome),population[i][1].fitness])\n",
    "\n",
    "    data=pd.DataFrame(listaAG)\n",
    "    data.columns = ['Poblacion','fitness']\n",
    "    return data"
   ]
  },
  {
   "cell_type": "markdown",
   "metadata": {},
   "source": [
    "## Selecciona los padres mediante operadores: Ruleta/ Torneo"
   ]
  },
  {
   "cell_type": "markdown",
   "metadata": {},
   "source": [
    "### Ruleta"
   ]
  },
  {
   "cell_type": "code",
   "execution_count": 17,
   "metadata": {},
   "outputs": [],
   "source": [
    "def select_parents_roulette(population):\n",
    "    popsize = len(population)\n",
    "    \n",
    "    # Escoje el primer padre\n",
    "    sumfitness = sum([indiv.fitness for indiv in population])  # suma total del fitness de la poblacion\n",
    "    pickfitness = random.uniform(0, sumfitness)   # escoge un numero aleatorio entre 0 y sumfitness\n",
    "    cumfitness = 0     # fitness acumulado\n",
    "    for i in range(popsize):\n",
    "        cumfitness += population[i].fitness\n",
    "        if cumfitness > pickfitness: \n",
    "            iParent1 = i\n",
    "            break\n",
    "     \n",
    "    # Escoje el segundo padre, desconsiderando el primer padre\n",
    "    sumfitness = sumfitness - population[iParent1].fitness # retira el fitness del padre ya escogido\n",
    "    pickfitness = random.uniform(0, sumfitness)   # escoge un numero aleatorio entre 0 y sumfitness\n",
    "    cumfitness = 0     # fitness acumulado\n",
    "    for i in range(popsize):\n",
    "        if i == iParent1: continue   # si es el primer padre \n",
    "        cumfitness += population[i].fitness\n",
    "        if cumfitness > pickfitness: \n",
    "            iParent2 = i\n",
    "            break        \n",
    "    return (population[iParent1], population[iParent2])"
   ]
  },
  {
   "cell_type": "markdown",
   "metadata": {},
   "source": [
    "### Torneo"
   ]
  },
  {
   "cell_type": "code",
   "execution_count": 18,
   "metadata": {},
   "outputs": [],
   "source": [
    "def select_parent_torneo(population,size_torneo):\n",
    "    \n",
    "    # Escoje el primer padre\n",
    "    list_indiv=[]\n",
    "    x1 = np.random.permutation(len(population) )\n",
    "    y1= x1[0:size_torneo]\n",
    "    for i in range(size_torneo):\n",
    "        list_indiv.append(population[y1[i]].fitness)\n",
    "    \n",
    "    iParent1=np.argmax(list_indiv)\n",
    "    \n",
    "    # Escoje el segundo padre, desconsiderando el primer padre   \n",
    "    x2 = np.delete(x1, iParent1)\n",
    "    x2 = np.random.permutation(x2)\n",
    "    list_indiv=[]\n",
    "    y2= x2[0:size_torneo]\n",
    "    for i in range(size_torneo):\n",
    "        list_indiv.append(population[y2[i]].fitness)\n",
    "    iParent2=np.argmax(list_indiv)\n",
    "    \n",
    "    return (population[x1[iParent1]],population[x2[iParent2]])"
   ]
  },
  {
   "cell_type": "markdown",
   "metadata": {},
   "source": [
    "## Iniciando una poblacion"
   ]
  },
  {
   "cell_type": "code",
   "execution_count": 19,
   "metadata": {
    "scrolled": true
   },
   "outputs": [],
   "source": [
    "target_string = 'Inteligencia Artificial en la PUCP'\n",
    "\n",
    "\n",
    "# construye el pool de alelos con los caracteres en mayuscula, minuscula y espacio en blanco\n",
    "allele_pool = []\n",
    "allele_pool.extend( [chr(x) for x in range(65, 91)] )   # caracteres ASCII en mayuscula\n",
    "allele_pool.extend( [chr(x) for x in range(97, 123)] )  # caracteres ASCII en minuscula\n",
    "allele_pool.extend(' ')  # espacio en blanco\n",
    "\n",
    "# Inicializa una poblacion inicial de forma aleatoria\n",
    "num_individuals = 7\n",
    "population = init_population(num_individuals, len(target_string), allele_pool)\n",
    "\n",
    "#display(population) #Imprime la primera poblacion "
   ]
  },
  {
   "cell_type": "markdown",
   "metadata": {},
   "source": [
    " ## Probando los Operadores"
   ]
  },
  {
   "cell_type": "code",
   "execution_count": 89,
   "metadata": {},
   "outputs": [
    {
     "data": {
      "text/html": [
       "<div>\n",
       "<style scoped>\n",
       "    .dataframe tbody tr th:only-of-type {\n",
       "        vertical-align: middle;\n",
       "    }\n",
       "\n",
       "    .dataframe tbody tr th {\n",
       "        vertical-align: top;\n",
       "    }\n",
       "\n",
       "    .dataframe thead th {\n",
       "        text-align: right;\n",
       "    }\n",
       "</style>\n",
       "<table border=\"1\" class=\"dataframe\">\n",
       "  <thead>\n",
       "    <tr style=\"text-align: right;\">\n",
       "      <th></th>\n",
       "      <th>Poblacion</th>\n",
       "      <th>fitness</th>\n",
       "    </tr>\n",
       "  </thead>\n",
       "  <tbody>\n",
       "    <tr>\n",
       "      <th>0</th>\n",
       "      <td>s FSuSfDqKcyvyfb gxonBnYJYVljgiTyE</td>\n",
       "      <td>2</td>\n",
       "    </tr>\n",
       "    <tr>\n",
       "      <th>1</th>\n",
       "      <td>QeqMzmixvQCxCSo E MCHbOVCYnCXYBHX</td>\n",
       "      <td>23</td>\n",
       "    </tr>\n",
       "    <tr>\n",
       "      <th>2</th>\n",
       "      <td>FwDgCOSXdxwxB lTAOHIbJZVxSVIDtlgZD</td>\n",
       "      <td>11</td>\n",
       "    </tr>\n",
       "    <tr>\n",
       "      <th>3</th>\n",
       "      <td>VdMCiVaEgoMnPnOJhomvXwbRbhftrsxiId</td>\n",
       "      <td>17</td>\n",
       "    </tr>\n",
       "    <tr>\n",
       "      <th>4</th>\n",
       "      <td>tedDRHE CtyXdCSDcahDAdRyFi uoVTL H</td>\n",
       "      <td>22</td>\n",
       "    </tr>\n",
       "    <tr>\n",
       "      <th>5</th>\n",
       "      <td>sCRPfSvNQTIJbFCZTITYxXWOud sAsEMbe</td>\n",
       "      <td>5</td>\n",
       "    </tr>\n",
       "    <tr>\n",
       "      <th>6</th>\n",
       "      <td>XYfUPRDUCdnkAfYcJZYUcjSfpWwdLDwhoK</td>\n",
       "      <td>19</td>\n",
       "    </tr>\n",
       "  </tbody>\n",
       "</table>\n",
       "</div>"
      ],
      "text/plain": [
       "                            Poblacion  fitness\n",
       "0  s FSuSfDqKcyvyfb gxonBnYJYVljgiTyE        2\n",
       "1  QeqMzmixvQCxCSo E MCHbOVCYnCXYBHX        23\n",
       "2  FwDgCOSXdxwxB lTAOHIbJZVxSVIDtlgZD       11\n",
       "3  VdMCiVaEgoMnPnOJhomvXwbRbhftrsxiId       17\n",
       "4  tedDRHE CtyXdCSDcahDAdRyFi uoVTL H       22\n",
       "5  sCRPfSvNQTIJbFCZTITYxXWOud sAsEMbe        5\n",
       "6  XYfUPRDUCdnkAfYcJZYUcjSfpWwdLDwhoK       19"
      ]
     },
     "execution_count": 89,
     "metadata": {},
     "output_type": "execute_result"
    }
   ],
   "source": [
    "population[0].fitness=2\n",
    "population[1].fitness=23\n",
    "population[2].fitness=11\n",
    "population[3].fitness=17\n",
    "population[4].fitness=22\n",
    "population[5].fitness=5\n",
    "population[6].fitness=19\n",
    "display(population)"
   ]
  },
  {
   "cell_type": "markdown",
   "metadata": {},
   "source": [
    "## Probando Cruzamiento"
   ]
  },
  {
   "cell_type": "code",
   "execution_count": 155,
   "metadata": {},
   "outputs": [],
   "source": [
    "popsize = len(population)\n",
    "## Selecciona una pareja de padres para cruzamiento \n",
    "mating_pool = []\n",
    "for i in range(0,2): mating_pool.append(select_parents_roulette(population))  ## Seleccion por ruleta\n",
    "#for i in range(0,2): mating_pool.append(select_parent_torneo(population,3))   # Seleccion por torneo  "
   ]
  },
  {
   "cell_type": "code",
   "execution_count": 156,
   "metadata": {},
   "outputs": [
    {
     "data": {
      "text/html": [
       "<div>\n",
       "<style scoped>\n",
       "    .dataframe tbody tr th:only-of-type {\n",
       "        vertical-align: middle;\n",
       "    }\n",
       "\n",
       "    .dataframe tbody tr th {\n",
       "        vertical-align: top;\n",
       "    }\n",
       "\n",
       "    .dataframe thead th {\n",
       "        text-align: right;\n",
       "    }\n",
       "</style>\n",
       "<table border=\"1\" class=\"dataframe\">\n",
       "  <thead>\n",
       "    <tr style=\"text-align: right;\">\n",
       "      <th></th>\n",
       "      <th>Poblacion</th>\n",
       "      <th>fitness</th>\n",
       "    </tr>\n",
       "  </thead>\n",
       "  <tbody>\n",
       "    <tr>\n",
       "      <th>0</th>\n",
       "      <td>QeqMzmixvQCxCSo E MCHbOVCYnCXYBHX</td>\n",
       "      <td>19</td>\n",
       "    </tr>\n",
       "    <tr>\n",
       "      <th>1</th>\n",
       "      <td>XYfUPRDUCdnkAfYcJZYUcjSfpWwdLDwhoK</td>\n",
       "      <td>11</td>\n",
       "    </tr>\n",
       "  </tbody>\n",
       "</table>\n",
       "</div>"
      ],
      "text/plain": [
       "                            Poblacion  fitness\n",
       "0  QeqMzmixvQCxCSo E MCHbOVCYnCXYBHX        19\n",
       "1  XYfUPRDUCdnkAfYcJZYUcjSfpWwdLDwhoK       11"
      ]
     },
     "execution_count": 156,
     "metadata": {},
     "output_type": "execute_result"
    }
   ],
   "source": [
    "display_m(mating_pool)"
   ]
  },
  {
   "cell_type": "code",
   "execution_count": 182,
   "metadata": {},
   "outputs": [],
   "source": [
    "# Crea la poblacion descendencia cruzando las parejas del mating pool\n",
    "offspring_population = []\n",
    "offspring_population.extend( mating_pool[0][0].crossover_onepoint(mating_pool[1][0])) # Recombinación de 1 punto\n",
    "#offspring_population.extend( mating_pool[0][0].crossover_uniform(mating_pool[1][0]) ) # Recombinación de multipunto"
   ]
  },
  {
   "cell_type": "code",
   "execution_count": 183,
   "metadata": {},
   "outputs": [
    {
     "data": {
      "text/html": [
       "<div>\n",
       "<style scoped>\n",
       "    .dataframe tbody tr th:only-of-type {\n",
       "        vertical-align: middle;\n",
       "    }\n",
       "\n",
       "    .dataframe tbody tr th {\n",
       "        vertical-align: top;\n",
       "    }\n",
       "\n",
       "    .dataframe thead th {\n",
       "        text-align: right;\n",
       "    }\n",
       "</style>\n",
       "<table border=\"1\" class=\"dataframe\">\n",
       "  <thead>\n",
       "    <tr style=\"text-align: right;\">\n",
       "      <th></th>\n",
       "      <th>Poblacion</th>\n",
       "      <th>fitness</th>\n",
       "    </tr>\n",
       "  </thead>\n",
       "  <tbody>\n",
       "    <tr>\n",
       "      <th>0</th>\n",
       "      <td>QYfUPRDUCdnkAfYcJZYUcjSfpWwdLDwhoK</td>\n",
       "      <td>-1</td>\n",
       "    </tr>\n",
       "    <tr>\n",
       "      <th>1</th>\n",
       "      <td>XeqMzmixvQCxCSo E MCHbOVCYnCXYBHX</td>\n",
       "      <td>-1</td>\n",
       "    </tr>\n",
       "  </tbody>\n",
       "</table>\n",
       "</div>"
      ],
      "text/plain": [
       "                            Poblacion  fitness\n",
       "0  QYfUPRDUCdnkAfYcJZYUcjSfpWwdLDwhoK       -1\n",
       "1  XeqMzmixvQCxCSo E MCHbOVCYnCXYBHX        -1"
      ]
     },
     "execution_count": 183,
     "metadata": {},
     "output_type": "execute_result"
    }
   ],
   "source": [
    "display(offspring_population)"
   ]
  },
  {
   "cell_type": "markdown",
   "metadata": {},
   "source": [
    "## Probando Mutacion"
   ]
  },
  {
   "cell_type": "code",
   "execution_count": 184,
   "metadata": {},
   "outputs": [],
   "source": [
    "pmut=0.1\n",
    "## Aplica el operador de mutacion con probabilidad pmut en cada hijo generado\n",
    "for i in range(len(offspring_population)):\n",
    "    if random.uniform(0, 1) < pmut: \n",
    "       # offspring_population[i] = offspring_population[i].mutate_swap()\n",
    "       offspring_population[i] = offspring_population[i].mutate_position()"
   ]
  },
  {
   "cell_type": "code",
   "execution_count": 185,
   "metadata": {},
   "outputs": [
    {
     "data": {
      "text/html": [
       "<div>\n",
       "<style scoped>\n",
       "    .dataframe tbody tr th:only-of-type {\n",
       "        vertical-align: middle;\n",
       "    }\n",
       "\n",
       "    .dataframe tbody tr th {\n",
       "        vertical-align: top;\n",
       "    }\n",
       "\n",
       "    .dataframe thead th {\n",
       "        text-align: right;\n",
       "    }\n",
       "</style>\n",
       "<table border=\"1\" class=\"dataframe\">\n",
       "  <thead>\n",
       "    <tr style=\"text-align: right;\">\n",
       "      <th></th>\n",
       "      <th>Poblacion</th>\n",
       "      <th>fitness</th>\n",
       "    </tr>\n",
       "  </thead>\n",
       "  <tbody>\n",
       "    <tr>\n",
       "      <th>0</th>\n",
       "      <td>QYfUPRDUCdnkAfYcJZYUcjSfpWwdLDwhoK</td>\n",
       "      <td>-1</td>\n",
       "    </tr>\n",
       "    <tr>\n",
       "      <th>1</th>\n",
       "      <td>XeqMzmixvQCxCSo E MCHpOVCYnCXYBHX</td>\n",
       "      <td>-1</td>\n",
       "    </tr>\n",
       "  </tbody>\n",
       "</table>\n",
       "</div>"
      ],
      "text/plain": [
       "                            Poblacion  fitness\n",
       "0  QYfUPRDUCdnkAfYcJZYUcjSfpWwdLDwhoK       -1\n",
       "1  XeqMzmixvQCxCSo E MCHpOVCYnCXYBHX        -1"
      ]
     },
     "execution_count": 185,
     "metadata": {},
     "output_type": "execute_result"
    }
   ],
   "source": [
    "display(offspring_population)"
   ]
  },
  {
   "cell_type": "code",
   "execution_count": null,
   "metadata": {},
   "outputs": [],
   "source": []
  }
 ],
 "metadata": {
  "kernelspec": {
   "display_name": "Python 3",
   "language": "python",
   "name": "python3"
  },
  "language_info": {
   "codemirror_mode": {
    "name": "ipython",
    "version": 3
   },
   "file_extension": ".py",
   "mimetype": "text/x-python",
   "name": "python",
   "nbconvert_exporter": "python",
   "pygments_lexer": "ipython3",
   "version": "3.7.4"
  },
  "toc": {
   "base_numbering": 1,
   "nav_menu": {},
   "number_sections": true,
   "sideBar": true,
   "skip_h1_title": false,
   "title_cell": "Table of Contents",
   "title_sidebar": "Contents",
   "toc_cell": false,
   "toc_position": {},
   "toc_section_display": true,
   "toc_window_display": false
  }
 },
 "nbformat": 4,
 "nbformat_minor": 4
}
