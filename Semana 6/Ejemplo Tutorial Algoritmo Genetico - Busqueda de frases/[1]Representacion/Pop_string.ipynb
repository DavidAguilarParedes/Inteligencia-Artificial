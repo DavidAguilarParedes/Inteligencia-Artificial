{
 "cells": [
  {
   "cell_type": "markdown",
   "metadata": {},
   "source": [
    "## Poblacion tipo string"
   ]
  },
  {
   "cell_type": "code",
   "execution_count": null,
   "metadata": {},
   "outputs": [],
   "source": [
    "import sys\n",
    "import time\n",
    "import numpy as np\n",
    "from random import shuffle, random, sample, randint, randrange, uniform\n",
    "from copy import deepcopy"
   ]
  },
  {
   "cell_type": "markdown",
   "metadata": {},
   "source": [
    "Clase abstracta de un individuo y sus operadores"
   ]
  },
  {
   "cell_type": "code",
   "execution_count": null,
   "metadata": {},
   "outputs": [],
   "source": [
    "class Individual:   \n",
    "    def __init__(self, chromosome, allele_pool):  # el constructor recibe el cromosoma  y el pool de alelos posibles\n",
    "        self.chromosome = chromosome[:]\n",
    "        self.allele_pool = allele_pool\n",
    "        self.fitness = -1  # -1 indica que el individuo no ha sido evaluado  \n",
    "\n"
   ]
  },
  {
   "cell_type": "markdown",
   "metadata": {},
   "source": [
    "El individuo es una lista de caracteres. Cada caracter (alelo) se obtiene de allele_pool (lista de posibles alelos)"
   ]
  },
  {
   "cell_type": "code",
   "execution_count": null,
   "metadata": {},
   "outputs": [],
   "source": [
    "def init_population(pop_number, chromosome_size, allele_pool):\n",
    "    \n",
    "    num_alleles = len(allele_pool)\n",
    "    population = []\n",
    "    for i in range(pop_number):\n",
    "        new_chromosome = [allele_pool[randrange(0, num_alleles)] for j in range(chromosome_size)]\n",
    "        population.append( Individual(new_chromosome, allele_pool) )\n",
    "    return population"
   ]
  },
  {
   "cell_type": "code",
   "execution_count": null,
   "metadata": {},
   "outputs": [],
   "source": [
    "target_string = 'Inteligencia Artificial en la PUCP'\n",
    "\n",
    "# construye el pool de alelos con los caracteres en mayuscula, minuscula y espacio en blanco\n",
    "allele_pool = []\n",
    "allele_pool.extend( [chr(x) for x in range(65, 91)] )   # caracteres ASCII en mayuscula\n",
    "allele_pool.extend( [chr(x) for x in range(97, 123)] )  # caracteres ASCII en minuscula\n",
    "allele_pool.extend(' ')  # espacio en blanco\n",
    "#print( ''.join(allele_pool))\n",
    "# Inicializa una poblacion inicial de forma aleatoria\n",
    "num_individuals = 10\n",
    "population = init_population(num_individuals, len(target_string), allele_pool)"
   ]
  },
  {
   "cell_type": "markdown",
   "metadata": {},
   "source": [
    "Muestra la poblacion"
   ]
  },
  {
   "cell_type": "code",
   "execution_count": null,
   "metadata": {},
   "outputs": [],
   "source": [
    "popsize = len(population)\n",
    "for i in range(popsize):\n",
    "       print(''.join(population[i].chromosome),population[i].fitness)\n"
   ]
  },
  {
   "cell_type": "code",
   "execution_count": null,
   "metadata": {},
   "outputs": [],
   "source": []
  }
 ],
 "metadata": {
  "kernelspec": {
   "display_name": "Python 3",
   "language": "python",
   "name": "python3"
  },
  "language_info": {
   "codemirror_mode": {
    "name": "ipython",
    "version": 3
   },
   "file_extension": ".py",
   "mimetype": "text/x-python",
   "name": "python",
   "nbconvert_exporter": "python",
   "pygments_lexer": "ipython3",
   "version": "3.7.6"
  },
  "toc": {
   "base_numbering": 1,
   "nav_menu": {},
   "number_sections": true,
   "sideBar": true,
   "skip_h1_title": false,
   "title_cell": "Table of Contents",
   "title_sidebar": "Contents",
   "toc_cell": false,
   "toc_position": {},
   "toc_section_display": true,
   "toc_window_display": false
  }
 },
 "nbformat": 4,
 "nbformat_minor": 4
}
