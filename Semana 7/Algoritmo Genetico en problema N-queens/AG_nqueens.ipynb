{
 "cells": [
  {
   "cell_type": "markdown",
   "metadata": {
    "collapsed": true
   },
   "source": [
    "# APLICACIONES EN CIENCIAS DE COMPUTACION\n",
    "Dr. Edwin Villanueva"
   ]
  },
  {
   "cell_type": "markdown",
   "metadata": {},
   "source": [
    "## Algoritmo genetico para resolver el problema de las n reinas\n",
    "\n",
    "\n"
   ]
  },
  {
   "cell_type": "markdown",
   "metadata": {},
   "source": [
    "<b>Clase abstracta de un individuo de algoritmo genético</b>"
   ]
  },
  {
   "cell_type": "code",
   "execution_count": 10,
   "metadata": {},
   "outputs": [],
   "source": [
    "class Individual:\n",
    "    \"Clase abstracta para individuos de un algoritmo evolutivo.\"\n",
    "\n",
    "    def __init__(self, chromosome):\n",
    "        self.chromosome = chromosome\n",
    "\n",
    "    def crossover(self, other):\n",
    "        \"Retorna un nuevo individuo cruzando self y other.\"\n",
    "        raise NotImplementedError\n",
    "        \n",
    "    def mutate(self):\n",
    "        \"Cambia los valores de algunos genes.\"\n",
    "        raise NotImplementedError        "
   ]
  },
  {
   "cell_type": "markdown",
   "metadata": {},
   "source": [
    "<b>Clase concreta de un individuo del problema de las n-reinas</b>"
   ]
  },
  {
   "cell_type": "code",
   "execution_count": 11,
   "metadata": {},
   "outputs": [],
   "source": [
    "import random\n",
    "\n",
    "class Individual_nqueens(Individual):\n",
    "    \"Clase que implementa el individuo en el problema de las n-reinas.\"\n",
    "\n",
    "    def __init__(self, chromosome):\n",
    "        self.chromosome = chromosome[:]\n",
    "        self.fitness = -1\n",
    "\n",
    "    def crossover_onepoint(self, other):\n",
    "        \"Retorna dos nuevos individuos del cruzamiento de un punto entre self y other \"\n",
    "        c = random.randrange(len(self.chromosome))\n",
    "        ind1 = Individual_nqueens(self.chromosome[:c] + other.chromosome[c:])\n",
    "        ind2 = Individual_nqueens(other.chromosome[:c] + self.chromosome[c:])\n",
    "        return [ind1, ind2]   \n",
    "    \n",
    "    def crossover_uniform(self, other):\n",
    "        chromosome1 = []\n",
    "        chromosome2 = []\n",
    "        \"Retorna dos nuevos individuos del cruzamiento uniforme entre self y other \"\n",
    "        for i in range(len(self.chromosome)):\n",
    "            if random.uniform(0, 1) < 0.5:\n",
    "                chromosome1.append(self.chromosome[i])\n",
    "                chromosome2.append(other.chromosome[i])\n",
    "            else:\n",
    "                chromosome1.append(other.chromosome[i])\n",
    "                chromosome2.append(self.chromosome[i])\n",
    "        ind1 = Individual_nqueens(chromosome1)\n",
    "        ind2 = Individual_nqueens(chromosome2)\n",
    "        return [ind1, ind2]     \n",
    "\n",
    "    def mutate_position(self):\n",
    "        \"Cambia aleatoriamente la posicion de una reina.\"\n",
    "        mutated_ind = Individual_nqueens(self.chromosome[:])\n",
    "        indexPos = random.randint(0, len(mutated_ind.chromosome)-1)\n",
    "        newPos = random.randint(0, len(mutated_ind.chromosome)-1)\n",
    "        mutated_ind.chromosome[indexPos] = newPos\n",
    "        return mutated_ind\n",
    "    "
   ]
  },
  {
   "cell_type": "markdown",
   "metadata": {},
   "source": [
    "<b>Funcion de fitness para evaluar un individuo del problema de las n-reinas</b>"
   ]
  },
  {
   "cell_type": "code",
   "execution_count": 12,
   "metadata": {},
   "outputs": [],
   "source": [
    "def fitness_nqueens(chromosome):\n",
    "    \"\"\"Retorna el fitness de un cromosoma en el problema de las n-reinas (nro de pares de reinas no atacadas) \"\"\"\n",
    "    n = len(chromosome)  # nro de reinas\n",
    "    fitness = 0\n",
    "    for i in range(n-1):\n",
    "        for j in range(i+1, n):\n",
    "            # si el par de reinas i, j  no etan en la misma fila o diagonales => par no atacado\n",
    "            if chromosome[j] not in [chromosome[i], chromosome[i] - (j-i),  chromosome[i] + (j-i)]:\n",
    "                fitness = fitness + 1\n",
    "    return fitness"
   ]
  },
  {
   "cell_type": "markdown",
   "metadata": {},
   "source": [
    "<b>Funcion para evaluar toda una población de individuos con la funcion de fitnes especificada</b>"
   ]
  },
  {
   "cell_type": "code",
   "execution_count": 13,
   "metadata": {},
   "outputs": [],
   "source": [
    "def evaluate_population(population, fitness_fn):\n",
    "    \"\"\" Evalua una poblacion de individuos con la funcion de fitness pasada \"\"\"\n",
    "    popsize = len(population)\n",
    "    for i in range(popsize):\n",
    "        if population[i].fitness == -1:    # si el individuo no esta evaluado\n",
    "            population[i].fitness = fitness_fn(population[i].chromosome)"
   ]
  },
  {
   "cell_type": "markdown",
   "metadata": {},
   "source": [
    "<b>Funcion que selecciona con el metodo de la ruleta un par de individuos de population para cruzamiento </b>"
   ]
  },
  {
   "cell_type": "code",
   "execution_count": 14,
   "metadata": {},
   "outputs": [],
   "source": [
    "def select_parents_roulette(population):\n",
    "    popsize = len(population)\n",
    "    \n",
    "    # Escoje el primer padre\n",
    "    sumfitness = sum([indiv.fitness for indiv in population])  # suma total del fitness de la poblacion\n",
    "    pickfitness = random.uniform(0, sumfitness)   # escoge un numero aleatorio entre 0 y sumfitness\n",
    "    cumfitness = 0     # fitness acumulado\n",
    "    for i in range(popsize):\n",
    "        cumfitness += population[i].fitness\n",
    "        if cumfitness > pickfitness: \n",
    "            iParent1 = i\n",
    "            break\n",
    "     \n",
    "    # Escoje el segundo padre, desconsiderando el padre ya escogido\n",
    "    sumfitness = sumfitness - population[iParent1].fitness # retira el fitness del padre ya escogido\n",
    "    pickfitness = random.uniform(0, sumfitness)   # escoge un numero aleatorio entre 0 y sumfitness\n",
    "    cumfitness = 0     # fitness acumulado\n",
    "    for i in range(popsize):\n",
    "        if i == iParent1: continue   # si es el primer padre \n",
    "        cumfitness += population[i].fitness\n",
    "        if cumfitness > pickfitness: \n",
    "            iParent2 = i\n",
    "            break        \n",
    "    return (population[iParent1], population[iParent2])"
   ]
  },
  {
   "cell_type": "markdown",
   "metadata": {},
   "source": [
    "<b>Funcion que selecciona sobrevivientes para la sgte generacion, dada la poblacion actual y poblacion de hijos </b>"
   ]
  },
  {
   "cell_type": "code",
   "execution_count": 15,
   "metadata": {},
   "outputs": [],
   "source": [
    "def select_survivors(population, offspring_population, numsurvivors):\n",
    "    next_population = []\n",
    "    population.extend(offspring_population) # une las dos poblaciones\n",
    "    isurvivors = sorted(range(len(population)), key=lambda i: population[i].fitness, reverse=True)[:numsurvivors]\n",
    "    for i in range(numsurvivors): next_population.append(population[isurvivors[i]])\n",
    "    return next_population"
   ]
  },
  {
   "cell_type": "markdown",
   "metadata": {},
   "source": [
    "<b>Algoritmo Genetico</b>   \n",
    "Recibe una poblacion inicial, funcion de fitness, numero de generaciones (ngen) y taza de mutación (pmut)"
   ]
  },
  {
   "cell_type": "code",
   "execution_count": 16,
   "metadata": {},
   "outputs": [],
   "source": [
    "def genetic_algorithm(population, fitness_fn, ngen=100, pmut=0.1):\n",
    "    \"Algoritmo Genetico \"\n",
    "    \n",
    "    popsize = len(population)\n",
    "    evaluate_population(population, fitness_fn)  # evalua la poblacion inicial\n",
    "    ibest = sorted(range(len(population)), key=lambda i: population[i].fitness, reverse=True)[:1]\n",
    "    bestfitness = [population[ibest[0]].fitness]\n",
    "    print(\"Poblacion inicial, best_fitness = {}\".format(population[ibest[0]].fitness))\n",
    "    \n",
    "    for g in range(ngen):   # Por cada generacion\n",
    "        \n",
    "        ## Selecciona las parejas de padres para cruzamiento \n",
    "        mating_pool = []\n",
    "        for i in range(int(popsize/2)): mating_pool.append(select_parents_roulette(population)) \n",
    "        \n",
    "        ## Crea la poblacion descendencia cruzando las parejas del mating pool con Recombinación de 1 punto\n",
    "        offspring_population = []\n",
    "        for i in range(len(mating_pool)): \n",
    "            #offspring_population.extend( mating_pool[i][0].crossover_onepoint(mating_pool[i][1]) )\n",
    "            offspring_population.extend( mating_pool[i][0].crossover_uniform(mating_pool[i][1]) )\n",
    "\n",
    "        ## Aplica el operador de mutacion con probabilidad pmut en cada hijo generado\n",
    "        for i in range(len(offspring_population)):\n",
    "            if random.uniform(0, 1) < pmut: \n",
    "                offspring_population[i] = offspring_population[i].mutate_position()\n",
    "        \n",
    "        ## Evalua la poblacion descendencia\n",
    "        evaluate_population(offspring_population, fitness_fn)  # evalua la poblacion inicial\n",
    "        \n",
    "        ## Selecciona popsize individuos para la sgte. generación de la union de la pob. actual y  pob. descendencia\n",
    "        population = select_survivors(population, offspring_population, popsize)\n",
    "\n",
    "        ## Almacena la historia del fitness del mejor individuo\n",
    "        ibest = sorted(range(len(population)), key=lambda i: population[i].fitness, reverse=True)[:1]\n",
    "        bestfitness.append(population[ibest[0]].fitness)\n",
    "        print(\"generacion {}, best_fitness = {}\".format(g, population[ibest[0]].fitness))\n",
    "    \n",
    "    return population[ibest[0]], bestfitness  "
   ]
  },
  {
   "cell_type": "markdown",
   "metadata": {},
   "source": [
    " <b>Algoritmo de Busqueda Genetica para el problema de las n-reinas</b>   "
   ]
  },
  {
   "cell_type": "code",
   "execution_count": 17,
   "metadata": {},
   "outputs": [],
   "source": [
    "def genetic_search_nqueens(fitness_fn, num_queens=10, popsize=10, ngen=100, pmut=0.5):\n",
    "    import random\n",
    "    population = []\n",
    "\n",
    "    ## Crea la poblacion inicial con cromosomas aleatorios\n",
    "    for i in range(popsize):\n",
    "        chromosome = [j for j in range(1,num_queens+1)]\n",
    "        random.shuffle(chromosome)\n",
    "        population.append( Individual_nqueens(chromosome) )\n",
    "        \n",
    "    ## Crea la poblacion inicial con los siguientes cromosomas    \n",
    "    #chromosomes = [[1,3,1,3,1,3,1,3,1,3],\n",
    "    #               [2,4,2,4,2,4,2,4,2,4],\n",
    "    #               [3,5,3,5,3,5,3,5,3,5],\n",
    "    #               [4,6,4,6,4,6,4,6,4,6],\n",
    "    #               [5,7,5,7,5,7,5,7,5,7],\n",
    "    #               [6,8,6,8,6,8,6,8,6,8],\n",
    "    #               [7,9,7,9,7,9,7,9,7,9],\n",
    "    #               [8,10,8,10,8,10,8,10,8,10],\n",
    "    #               [9,1,9,1,9,1,9,1,9,1],\n",
    "    #               [10,2,10,2,10,2,10,2,10,2] ]   \n",
    "    #for i in range(popsize):\n",
    "    #    population.append( Individual_nqueens(chromosomes[i]) )   \n",
    "        \n",
    "    ## llama al algoritmo genetico para encontrar una solucion al problema de las n reinas\n",
    "    return genetic_algorithm(population, fitness_fn, ngen, pmut)\n",
    "        "
   ]
  },
  {
   "cell_type": "markdown",
   "metadata": {},
   "source": [
    "# Probando el Algoritmo genetico"
   ]
  },
  {
   "cell_type": "code",
   "execution_count": 20,
   "metadata": {},
   "outputs": [
    {
     "name": "stdout",
     "output_type": "stream",
     "text": [
      "Poblacion inicial, best_fitness = 43\n",
      "generacion 0, best_fitness = 43\n",
      "generacion 1, best_fitness = 43\n",
      "generacion 2, best_fitness = 43\n",
      "generacion 3, best_fitness = 43\n",
      "generacion 4, best_fitness = 43\n",
      "generacion 5, best_fitness = 44\n",
      "generacion 6, best_fitness = 44\n",
      "generacion 7, best_fitness = 44\n",
      "generacion 8, best_fitness = 44\n",
      "generacion 9, best_fitness = 44\n",
      "generacion 10, best_fitness = 44\n",
      "generacion 11, best_fitness = 44\n",
      "generacion 12, best_fitness = 44\n",
      "generacion 13, best_fitness = 44\n",
      "generacion 14, best_fitness = 44\n",
      "generacion 15, best_fitness = 44\n",
      "generacion 16, best_fitness = 44\n",
      "generacion 17, best_fitness = 44\n",
      "generacion 18, best_fitness = 44\n",
      "generacion 19, best_fitness = 44\n",
      "generacion 20, best_fitness = 44\n",
      "generacion 21, best_fitness = 44\n",
      "generacion 22, best_fitness = 44\n",
      "generacion 23, best_fitness = 44\n",
      "generacion 24, best_fitness = 44\n",
      "generacion 25, best_fitness = 44\n",
      "generacion 26, best_fitness = 44\n",
      "generacion 27, best_fitness = 44\n",
      "generacion 28, best_fitness = 44\n",
      "generacion 29, best_fitness = 44\n",
      "generacion 30, best_fitness = 44\n",
      "generacion 31, best_fitness = 44\n",
      "generacion 32, best_fitness = 44\n",
      "generacion 33, best_fitness = 44\n",
      "generacion 34, best_fitness = 44\n",
      "generacion 35, best_fitness = 44\n",
      "generacion 36, best_fitness = 44\n",
      "generacion 37, best_fitness = 44\n",
      "generacion 38, best_fitness = 44\n",
      "generacion 39, best_fitness = 45\n",
      "generacion 40, best_fitness = 45\n",
      "generacion 41, best_fitness = 45\n",
      "generacion 42, best_fitness = 45\n",
      "generacion 43, best_fitness = 45\n",
      "generacion 44, best_fitness = 45\n",
      "generacion 45, best_fitness = 45\n",
      "generacion 46, best_fitness = 45\n",
      "generacion 47, best_fitness = 45\n",
      "generacion 48, best_fitness = 45\n",
      "generacion 49, best_fitness = 45\n",
      "generacion 50, best_fitness = 45\n",
      "generacion 51, best_fitness = 45\n",
      "generacion 52, best_fitness = 45\n",
      "generacion 53, best_fitness = 45\n",
      "generacion 54, best_fitness = 45\n",
      "generacion 55, best_fitness = 45\n",
      "generacion 56, best_fitness = 45\n",
      "generacion 57, best_fitness = 45\n",
      "generacion 58, best_fitness = 45\n",
      "generacion 59, best_fitness = 45\n",
      "generacion 60, best_fitness = 45\n",
      "generacion 61, best_fitness = 45\n",
      "generacion 62, best_fitness = 45\n",
      "generacion 63, best_fitness = 45\n",
      "generacion 64, best_fitness = 45\n",
      "generacion 65, best_fitness = 45\n",
      "generacion 66, best_fitness = 45\n",
      "generacion 67, best_fitness = 45\n",
      "generacion 68, best_fitness = 45\n",
      "generacion 69, best_fitness = 45\n",
      "generacion 70, best_fitness = 45\n",
      "generacion 71, best_fitness = 45\n",
      "generacion 72, best_fitness = 45\n",
      "generacion 73, best_fitness = 45\n",
      "generacion 74, best_fitness = 45\n",
      "generacion 75, best_fitness = 45\n",
      "generacion 76, best_fitness = 45\n",
      "generacion 77, best_fitness = 45\n",
      "generacion 78, best_fitness = 45\n",
      "generacion 79, best_fitness = 45\n",
      "generacion 80, best_fitness = 45\n",
      "generacion 81, best_fitness = 45\n",
      "generacion 82, best_fitness = 45\n",
      "generacion 83, best_fitness = 45\n",
      "generacion 84, best_fitness = 45\n",
      "generacion 85, best_fitness = 45\n",
      "generacion 86, best_fitness = 45\n",
      "generacion 87, best_fitness = 45\n",
      "generacion 88, best_fitness = 45\n",
      "generacion 89, best_fitness = 45\n",
      "generacion 90, best_fitness = 45\n",
      "generacion 91, best_fitness = 45\n",
      "generacion 92, best_fitness = 45\n",
      "generacion 93, best_fitness = 45\n",
      "generacion 94, best_fitness = 45\n",
      "generacion 95, best_fitness = 45\n",
      "generacion 96, best_fitness = 45\n",
      "generacion 97, best_fitness = 45\n",
      "generacion 98, best_fitness = 45\n",
      "generacion 99, best_fitness = 45\n"
     ]
    },
    {
     "data": {
      "image/png": "[encoded data removed]",
      "text/plain": [
       "<Figure size 432x288 with 1 Axes>"
      ]
     },
     "metadata": {
      "needs_background": "light"
     },
     "output_type": "display_data"
    }
   ],
   "source": [
    "import matplotlib.pyplot as plt\n",
    "\n",
    "# busca solucion para el problema de 10 reinas. Usa 100 individuos aleatorios, 100 generaciones y taza de mutación de 0.5\n",
    "best_ind, bestfitness = genetic_search_nqueens(fitness_nqueens, 10, 100, 100, 0.90)\n",
    "plt.plot(bestfitness)\n",
    "plt.show()"
   ]
  },
  {
   "cell_type": "code",
   "execution_count": null,
   "metadata": {},
   "outputs": [],
   "source": []
  },
  {
   "cell_type": "code",
   "execution_count": null,
   "metadata": {},
   "outputs": [],
   "source": []
  }
 ],
 "metadata": {
  "kernelspec": {
   "display_name": "Python 3",
   "language": "python",
   "name": "python3"
  },
  "language_info": {
   "codemirror_mode": {
    "name": "ipython",
    "version": 3
   },
   "file_extension": ".py",
   "mimetype": "text/x-python",
   "name": "python",
   "nbconvert_exporter": "python",
   "pygments_lexer": "ipython3",
   "version": "3.7.3"
  }
 },
 "nbformat": 4,
 "nbformat_minor": 2
}
